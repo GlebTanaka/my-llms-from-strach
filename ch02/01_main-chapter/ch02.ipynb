{
 "cells": [
  {
   "metadata": {},
   "cell_type": "markdown",
   "source": "## 2.2 Tokenizing text",
   "id": "8be5af3293c7b497"
  },
  {
   "cell_type": "code",
   "id": "initial_id",
   "metadata": {
    "collapsed": true,
    "ExecuteTime": {
     "end_time": "2025-07-12T11:38:12.822316Z",
     "start_time": "2025-07-12T11:38:12.813080Z"
    }
   },
   "source": [
    "import os\n",
    "import urllib.request\n",
    "\n",
    "if not os.path.exists('the-verdict.txt'):\n",
    "    url = 'https://raw.githubusercontent.com/GlebTanaka/LLMs-from-scratch/refs/heads/main/ch02/01_main-chapter-code/the-verdict.txt'\n",
    "    file_path = 'the-verdict.txt'\n",
    "    urllib.request.urlretrieve(url, file_path)"
   ],
   "outputs": [],
   "execution_count": 1
  },
  {
   "metadata": {
    "ExecuteTime": {
     "end_time": "2025-07-12T11:38:12.886391Z",
     "start_time": "2025-07-12T11:38:12.879258Z"
    }
   },
   "cell_type": "code",
   "source": [
    "# Read the file and get character count\n",
    "with open('the-verdict.txt', 'r', encoding='utf-8') as file:\n",
    "    the_verdict_text = file.read()\n",
    "    char_count = len(the_verdict_text)\n",
    "print(f\"Total number of characters in the file: {char_count}\")\n",
    "print(the_verdict_text[:99])"
   ],
   "id": "e9af8606c4a2b890",
   "outputs": [
    {
     "name": "stdout",
     "output_type": "stream",
     "text": [
      "Total number of characters in the file: 20479\n",
      "I HAD always thought Jack Gisburn rather a cheap genius--though a good fellow enough--so it was no \n"
     ]
    }
   ],
   "execution_count": 2
  },
  {
   "metadata": {
    "ExecuteTime": {
     "end_time": "2025-07-12T11:38:12.921928Z",
     "start_time": "2025-07-12T11:38:12.916784Z"
    }
   },
   "cell_type": "code",
   "source": [
    "import re\n",
    "\n",
    "# Sample sentence\n",
    "sample_sentence = \"Hello, world! This is a simple example of tokenization (using regex).\"\n",
    "\n",
    "# Tokenize using re.findall\n",
    "# \\w+ matches one or more word characters (letters, digits, underscores)\n",
    "tokens = re.findall(r'\\w+', sample_sentence.lower())\n",
    "\n",
    "print(\"Original text:\", sample_sentence)\n",
    "print(\"\\nTokens:\", tokens)\n",
    "print(\"Number of tokens:\", len(tokens))"
   ],
   "id": "1f5cbbf58e598d6f",
   "outputs": [
    {
     "name": "stdout",
     "output_type": "stream",
     "text": [
      "Original text: Hello, world! This is a simple example of tokenization (using regex).\n",
      "\n",
      "Tokens: ['hello', 'world', 'this', 'is', 'a', 'simple', 'example', 'of', 'tokenization', 'using', 'regex']\n",
      "Number of tokens: 11\n"
     ]
    }
   ],
   "execution_count": 3
  },
  {
   "metadata": {
    "ExecuteTime": {
     "end_time": "2025-07-12T11:38:13.110572Z",
     "start_time": "2025-07-12T11:38:13.104664Z"
    }
   },
   "cell_type": "code",
   "source": [
    "# A few example texts with different patterns\n",
    "texts = [\n",
    "    \"Hello world\",                    # Simple space-separated\n",
    "    \"Hello, world!\",                  # With punctuation\n",
    "    \"Is this--a test?\",              # With double dash\n",
    "    \"Word. Another word... Final\"     # With multiple dots\n",
    "]\n",
    "\n",
    "# Try different patterns\n",
    "patterns = [\n",
    "    r'\\w+',                          # Just words\n",
    "    r'[A-Za-z]+',                    # Only letters\n",
    "    r'([,.:;?_!\"()\\']|--|\\s)',      # more complex pattern\n",
    "    r'\\S+'                           # Non-whitespace chunks\n",
    "]\n",
    "\n",
    "# Test each pattern on each text\n",
    "for text in texts:\n",
    "    print(f\"\\nOriginal text: '{text}'\")\n",
    "    for pattern in patterns:\n",
    "        print(f\"\\nPattern '{pattern}':\")\n",
    "        if pattern.startswith('('):\n",
    "            # Use split for patterns with groups\n",
    "            tokens = [t.strip() for t in re.split(pattern, text) if t.strip()]\n",
    "        else:\n",
    "            # Use findall for simple patterns\n",
    "            tokens = re.findall(pattern, text)\n",
    "        print(f\"Tokens: {tokens}\")"
   ],
   "id": "2f347d40432f9607",
   "outputs": [
    {
     "name": "stdout",
     "output_type": "stream",
     "text": [
      "\n",
      "Original text: 'Hello world'\n",
      "\n",
      "Pattern '\\w+':\n",
      "Tokens: ['Hello', 'world']\n",
      "\n",
      "Pattern '[A-Za-z]+':\n",
      "Tokens: ['Hello', 'world']\n",
      "\n",
      "Pattern '([,.:;?_!\"()\\']|--|\\s)':\n",
      "Tokens: ['Hello', 'world']\n",
      "\n",
      "Pattern '\\S+':\n",
      "Tokens: ['Hello', 'world']\n",
      "\n",
      "Original text: 'Hello, world!'\n",
      "\n",
      "Pattern '\\w+':\n",
      "Tokens: ['Hello', 'world']\n",
      "\n",
      "Pattern '[A-Za-z]+':\n",
      "Tokens: ['Hello', 'world']\n",
      "\n",
      "Pattern '([,.:;?_!\"()\\']|--|\\s)':\n",
      "Tokens: ['Hello', ',', 'world', '!']\n",
      "\n",
      "Pattern '\\S+':\n",
      "Tokens: ['Hello,', 'world!']\n",
      "\n",
      "Original text: 'Is this--a test?'\n",
      "\n",
      "Pattern '\\w+':\n",
      "Tokens: ['Is', 'this', 'a', 'test']\n",
      "\n",
      "Pattern '[A-Za-z]+':\n",
      "Tokens: ['Is', 'this', 'a', 'test']\n",
      "\n",
      "Pattern '([,.:;?_!\"()\\']|--|\\s)':\n",
      "Tokens: ['Is', 'this', '--', 'a', 'test', '?']\n",
      "\n",
      "Pattern '\\S+':\n",
      "Tokens: ['Is', 'this--a', 'test?']\n",
      "\n",
      "Original text: 'Word. Another word... Final'\n",
      "\n",
      "Pattern '\\w+':\n",
      "Tokens: ['Word', 'Another', 'word', 'Final']\n",
      "\n",
      "Pattern '[A-Za-z]+':\n",
      "Tokens: ['Word', 'Another', 'word', 'Final']\n",
      "\n",
      "Pattern '([,.:;?_!\"()\\']|--|\\s)':\n",
      "Tokens: ['Word', '.', 'Another', 'word', '.', '.', '.', 'Final']\n",
      "\n",
      "Pattern '\\S+':\n",
      "Tokens: ['Word.', 'Another', 'word...', 'Final']\n"
     ]
    }
   ],
   "execution_count": 4
  },
  {
   "metadata": {
    "ExecuteTime": {
     "end_time": "2025-07-12T11:38:13.147360Z",
     "start_time": "2025-07-12T11:38:13.137764Z"
    }
   },
   "cell_type": "code",
   "source": [
    "# Define the pattern as a variable\n",
    "pattern = r'([,.:;?_!\"()\\']|--|\\s)'\n",
    "\n",
    "# Tokenize using the pattern\n",
    "tokens = [token.strip() for token in re.split(pattern, the_verdict_text) if token.strip()]\n",
    "\n",
    "print(\"\\nTokens:\", tokens[:30])\n",
    "print(\"Number of tokens:\", len(tokens))\n"
   ],
   "id": "678e5400ac22b9bb",
   "outputs": [
    {
     "name": "stdout",
     "output_type": "stream",
     "text": [
      "\n",
      "Tokens: ['I', 'HAD', 'always', 'thought', 'Jack', 'Gisburn', 'rather', 'a', 'cheap', 'genius', '--', 'though', 'a', 'good', 'fellow', 'enough', '--', 'so', 'it', 'was', 'no', 'great', 'surprise', 'to', 'me', 'to', 'hear', 'that', ',', 'in']\n",
      "Number of tokens: 4690\n"
     ]
    }
   ],
   "execution_count": 5
  },
  {
   "metadata": {},
   "cell_type": "markdown",
   "source": "## 2.3 Converting tokens into token IDs",
   "id": "a7492d767fbae6d1"
  },
  {
   "metadata": {
    "ExecuteTime": {
     "end_time": "2025-07-12T11:38:13.252133Z",
     "start_time": "2025-07-12T11:38:13.241473Z"
    }
   },
   "cell_type": "code",
   "source": [
    "# Convert tokens to a sorted set (vocabulary)\n",
    "vocab = sorted(set(tokens))\n",
    "\n",
    "print(\"Vocabulary (unique tokens):\", vocab[:5])\n",
    "print(\"Vocabulary size:\", len(vocab))\n",
    "\n",
    "# Create a token-to-id mapping dictionary\n",
    "token_to_id = {token: idx for idx, token in enumerate(vocab)}\n",
    "\n",
    "# Convert tokens to IDs\n",
    "token_ids = [token_to_id[token] for token in tokens]\n",
    "\n",
    "# Print first 5 items from token_to_id dictionary\n",
    "print(\"\\nFirst 5 token-to-ID mappings:\")\n",
    "for i, (token, id_num) in enumerate(token_to_id.items()):\n",
    "    if i >= 5:\n",
    "        break\n",
    "    print(f\"'{token}' -> {id_num}\")\n",
    "\n",
    "# Print first 10 token IDs\n",
    "print(\"\\nFirst 10 tokens as IDs:\", token_ids[:10])"
   ],
   "id": "565fbea11910e0c1",
   "outputs": [
    {
     "name": "stdout",
     "output_type": "stream",
     "text": [
      "Vocabulary (unique tokens): ['!', '\"', \"'\", '(', ')']\n",
      "Vocabulary size: 1130\n",
      "\n",
      "First 5 token-to-ID mappings:\n",
      "'!' -> 0\n",
      "'\"' -> 1\n",
      "''' -> 2\n",
      "'(' -> 3\n",
      "')' -> 4\n",
      "\n",
      "First 10 tokens as IDs: [53, 44, 149, 1003, 57, 38, 818, 115, 256, 486]\n"
     ]
    }
   ],
   "execution_count": 6
  },
  {
   "metadata": {
    "ExecuteTime": {
     "end_time": "2025-07-12T11:38:13.293446Z",
     "start_time": "2025-07-12T11:38:13.284421Z"
    }
   },
   "cell_type": "code",
   "source": [
    "class SimpleTokenizerV1:\n",
    "    def __init__(self, vocab):\n",
    "        self.str_to_int = vocab # Dictionary mapping tokens to IDs\n",
    "        self.int_to_str = {i:s for s,i in vocab.items()} # Reverse mapping: IDs to tokens\n",
    "\n",
    "    def encode(self, text):\n",
    "        preprocessed = re.split(r'([,.:;?_!\"()\\']|--|\\s)', text)\n",
    "\n",
    "        preprocessed = [\n",
    "            item.strip() for item in preprocessed if item.strip()\n",
    "        ]\n",
    "        ids = [self.str_to_int[s] for s in preprocessed]\n",
    "        return ids\n",
    "\n",
    "    def decode(self, ids):\n",
    "        text = \" \".join([self.int_to_str[i] for i in ids])\n",
    "        # Replace spaces before the specified punctuations\n",
    "        text = re.sub(r'\\s+([,.?!\"()\\'])', r'\\1', text)\n",
    "        return text"
   ],
   "id": "7f9a93d7a2edb09f",
   "outputs": [],
   "execution_count": 7
  },
  {
   "metadata": {
    "ExecuteTime": {
     "end_time": "2025-07-12T11:38:13.330338Z",
     "start_time": "2025-07-12T11:38:13.326937Z"
    }
   },
   "cell_type": "code",
   "source": [
    "# Example usage\n",
    "vocab = {'hello': 0, 'world': 1, '!': 2}\n",
    "tokenizer = SimpleTokenizerV1(vocab)\n",
    "\n",
    "# Encoding\n",
    "ids = tokenizer.encode(\"hello world!\")  # Returns: [0, 1, 2]\n",
    "\n",
    "# Decoding\n",
    "text = tokenizer.decode([0, 1, 2])  # Returns: \"hello world!\"\n",
    "print(text)"
   ],
   "id": "ef30c078e400d7bd",
   "outputs": [
    {
     "name": "stdout",
     "output_type": "stream",
     "text": [
      "hello world!\n"
     ]
    }
   ],
   "execution_count": 8
  },
  {
   "metadata": {
    "ExecuteTime": {
     "end_time": "2025-07-12T11:38:13.390256Z",
     "start_time": "2025-07-12T11:38:13.384146Z"
    }
   },
   "cell_type": "code",
   "source": [
    "# Using tokenizer on prior created vocabulary.\n",
    "tokenizer_2 = SimpleTokenizerV1(token_to_id)\n",
    "\n",
    "text_section = \"\"\"\"It's the last he painted, you know,\"\n",
    "           Mrs. Gisburn said with pardonable pride.\"\"\"\n",
    "ids = tokenizer_2.encode(text_section)\n",
    "print(ids)"
   ],
   "id": "4a4df1097d08985b",
   "outputs": [
    {
     "name": "stdout",
     "output_type": "stream",
     "text": [
      "[1, 56, 2, 850, 988, 602, 533, 746, 5, 1126, 596, 5, 1, 67, 7, 38, 851, 1108, 754, 793, 7]\n"
     ]
    }
   ],
   "execution_count": 9
  },
  {
   "metadata": {
    "ExecuteTime": {
     "end_time": "2025-07-12T11:38:13.436509Z",
     "start_time": "2025-07-12T11:38:13.428910Z"
    }
   },
   "cell_type": "code",
   "source": [
    "# decode integers into text\n",
    "tokenizer_2.decode(ids)"
   ],
   "id": "4accfc0a72ed03fc",
   "outputs": [
    {
     "data": {
      "text/plain": [
       "'\" It\\' s the last he painted, you know,\" Mrs. Gisburn said with pardonable pride.'"
      ]
     },
     "execution_count": 10,
     "metadata": {},
     "output_type": "execute_result"
    }
   ],
   "execution_count": 10
  },
  {
   "metadata": {
    "ExecuteTime": {
     "end_time": "2025-07-12T11:38:13.478249Z",
     "start_time": "2025-07-12T11:38:13.474732Z"
    }
   },
   "cell_type": "code",
   "source": [
    "# First tokenizer_2.encode(text_section) converts the text into a list of token IDs\n",
    "# Then tokenizer_2.decode() converts those IDs back into text\n",
    "# This is a roundtrip conversion: text -> IDs -> text\n",
    "# Useful for testing if the tokenizer preserves the text correctly\n",
    "tokenizer_2.decode(tokenizer_2.encode(text_section))"
   ],
   "id": "b54cc06bacd83dd7",
   "outputs": [
    {
     "data": {
      "text/plain": [
       "'\" It\\' s the last he painted, you know,\" Mrs. Gisburn said with pardonable pride.'"
      ]
     },
     "execution_count": 11,
     "metadata": {},
     "output_type": "execute_result"
    }
   ],
   "execution_count": 11
  },
  {
   "metadata": {},
   "cell_type": "markdown",
   "source": "## 2.4 Adding special context tokens",
   "id": "83ad50c4df5e8fd2"
  },
  {
   "metadata": {
    "ExecuteTime": {
     "end_time": "2025-07-12T11:38:13.508710Z",
     "start_time": "2025-07-12T11:38:13.504236Z"
    }
   },
   "cell_type": "code",
   "source": [
    "# length before adding special tokens\n",
    "len(token_to_id.items())"
   ],
   "id": "9a1432415e01fe37",
   "outputs": [
    {
     "data": {
      "text/plain": [
       "1130"
      ]
     },
     "execution_count": 12,
     "metadata": {},
     "output_type": "execute_result"
    }
   ],
   "execution_count": 12
  },
  {
   "metadata": {
    "ExecuteTime": {
     "end_time": "2025-07-12T11:38:13.537165Z",
     "start_time": "2025-07-12T11:38:13.530442Z"
    }
   },
   "cell_type": "code",
   "source": [
    "# Add special tokens - using the next available IDs\n",
    "next_id = len(token_to_id)  # Get the next available ID\n",
    "\n",
    "# Add end of line token\n",
    "token_to_id['<|endoftext|>'] = next_id\n",
    "next_id += 1\n",
    "\n",
    "# Add unknown word token\n",
    "token_to_id[('<|unk|>')] = next_id\n",
    "\n",
    "# Print the new tokens and their IDs\n",
    "print(\"Special tokens added:\")\n",
    "print(f\"<|endoftext|> token ID: {token_to_id['<|endoftext|>']}\")\n",
    "print(f\"<|unk|> token ID: {token_to_id['<|unk|>']}\")"
   ],
   "id": "a480bb88bebeb649",
   "outputs": [
    {
     "name": "stdout",
     "output_type": "stream",
     "text": [
      "Special tokens added:\n",
      "<|endoftext|> token ID: 1130\n",
      "<|unk|> token ID: 1131\n"
     ]
    }
   ],
   "execution_count": 13
  },
  {
   "metadata": {
    "ExecuteTime": {
     "end_time": "2025-07-12T11:38:13.568700Z",
     "start_time": "2025-07-12T11:38:13.563392Z"
    }
   },
   "cell_type": "code",
   "source": [
    "# length after adding special tokens:\n",
    "len(token_to_id.items())"
   ],
   "id": "b630a1c9144f4654",
   "outputs": [
    {
     "data": {
      "text/plain": [
       "1132"
      ]
     },
     "execution_count": 14,
     "metadata": {},
     "output_type": "execute_result"
    }
   ],
   "execution_count": 14
  },
  {
   "metadata": {
    "ExecuteTime": {
     "end_time": "2025-07-12T11:38:13.602727Z",
     "start_time": "2025-07-12T11:38:13.598004Z"
    }
   },
   "cell_type": "code",
   "source": [
    "for i, item in enumerate(list(token_to_id.items())[-5:]):\n",
    "    print(item)"
   ],
   "id": "1312e370fe2db8c1",
   "outputs": [
    {
     "name": "stdout",
     "output_type": "stream",
     "text": [
      "('younger', 1127)\n",
      "('your', 1128)\n",
      "('yourself', 1129)\n",
      "('<|endoftext|>', 1130)\n",
      "('<|unk|>', 1131)\n"
     ]
    }
   ],
   "execution_count": 15
  },
  {
   "metadata": {
    "ExecuteTime": {
     "end_time": "2025-07-12T11:38:13.641950Z",
     "start_time": "2025-07-12T11:38:13.636030Z"
    }
   },
   "cell_type": "code",
   "source": [
    "# adjust the tokenizer to use unknown words:\n",
    "class SimpleTokenizerV2:\n",
    "    def __init__(self, vocab):\n",
    "        self.str_to_int = vocab\n",
    "        self.int_to_str = {i:s for s,i in vocab.items()}\n",
    "        # Store the '<|unk|>' token ID for easy access\n",
    "        self.unk_token_id = vocab['<|unk|>']\n",
    "\n",
    "    def encode(self, text):\n",
    "        preprocessed = re.split(r'([,.:;?_!\"()\\']|--|\\s)', text)\n",
    "\n",
    "        preprocessed = [\n",
    "            item.strip() for item in preprocessed if item.strip()\n",
    "        ]\n",
    "        # Use get() with unk_token_id as default for unknown words\n",
    "        ids = [self.str_to_int.get(s, self.unk_token_id) for s in preprocessed]\n",
    "        return ids\n",
    "\n",
    "    def decode(self, ids):\n",
    "        text = \" \".join([self.int_to_str[i] for i in ids])\n",
    "        # Replace spaces before the specified punctuations\n",
    "        text = re.sub(r'\\s+([,.?!\"()\\'])', r'\\1', text)\n",
    "        return text"
   ],
   "id": "88657cc0c470786",
   "outputs": [],
   "execution_count": 16
  },
  {
   "metadata": {
    "ExecuteTime": {
     "end_time": "2025-07-12T11:38:13.662457Z",
     "start_time": "2025-07-12T11:38:13.658606Z"
    }
   },
   "cell_type": "code",
   "source": [
    "tokenizer = SimpleTokenizerV2(token_to_id)\n",
    "# This will work even with words not in our vocabulary\n",
    "test_text = \"hello nonexistentword world\"\n",
    "encoded = tokenizer.encode(test_text)\n",
    "decoded = tokenizer.decode(encoded)\n",
    "print(decoded)"
   ],
   "id": "8a616c729d96891b",
   "outputs": [
    {
     "name": "stdout",
     "output_type": "stream",
     "text": [
      "<|unk|> <|unk|> <|unk|>\n"
     ]
    }
   ],
   "execution_count": 17
  },
  {
   "metadata": {
    "ExecuteTime": {
     "end_time": "2025-07-12T11:38:13.693590Z",
     "start_time": "2025-07-12T11:38:13.690567Z"
    }
   },
   "cell_type": "code",
   "source": [
    "# example with sentences from the verdict\n",
    "text1 = \"Hello, do you like tea?\"\n",
    "text2 = \"In the sunlit terraces of the palace.\"\n",
    "\n",
    "text = \" <|endoftext|> \".join((text1, text2))\n",
    "\n",
    "print(text)"
   ],
   "id": "32ac9304401e9129",
   "outputs": [
    {
     "name": "stdout",
     "output_type": "stream",
     "text": [
      "Hello, do you like tea? <|endoftext|> In the sunlit terraces of the palace.\n"
     ]
    }
   ],
   "execution_count": 18
  },
  {
   "metadata": {
    "ExecuteTime": {
     "end_time": "2025-07-12T11:38:13.722968Z",
     "start_time": "2025-07-12T11:38:13.719058Z"
    }
   },
   "cell_type": "code",
   "source": "tokenizer.encode(text)",
   "id": "a02ad448b718da41",
   "outputs": [
    {
     "data": {
      "text/plain": [
       "[1131, 5, 355, 1126, 628, 975, 10, 1130, 55, 988, 956, 984, 722, 988, 1131, 7]"
      ]
     },
     "execution_count": 19,
     "metadata": {},
     "output_type": "execute_result"
    }
   ],
   "execution_count": 19
  },
  {
   "metadata": {
    "ExecuteTime": {
     "end_time": "2025-07-12T11:38:13.754295Z",
     "start_time": "2025-07-12T11:38:13.750274Z"
    }
   },
   "cell_type": "code",
   "source": "tokenizer.decode(tokenizer.encode(text))",
   "id": "6ddf6c1cabc34447",
   "outputs": [
    {
     "data": {
      "text/plain": [
       "'<|unk|>, do you like tea? <|endoftext|> In the sunlit terraces of the <|unk|>.'"
      ]
     },
     "execution_count": 20,
     "metadata": {},
     "output_type": "execute_result"
    }
   ],
   "execution_count": 20
  },
  {
   "metadata": {},
   "cell_type": "markdown",
   "source": "## 2.5 Byte pair encoding",
   "id": "3e7394a064cb38a6"
  },
  {
   "metadata": {
    "ExecuteTime": {
     "end_time": "2025-07-12T11:38:13.928821Z",
     "start_time": "2025-07-12T11:38:13.786925Z"
    }
   },
   "cell_type": "code",
   "source": [
    "import tiktoken\n",
    "tiktoken.__version__"
   ],
   "id": "cdce3a20eb9e5f7d",
   "outputs": [
    {
     "data": {
      "text/plain": [
       "'0.9.0'"
      ]
     },
     "execution_count": 21,
     "metadata": {},
     "output_type": "execute_result"
    }
   ],
   "execution_count": 21
  },
  {
   "metadata": {
    "ExecuteTime": {
     "end_time": "2025-07-12T11:38:16.508101Z",
     "start_time": "2025-07-12T11:38:13.944619Z"
    }
   },
   "cell_type": "code",
   "source": [
    "import tiktoken\n",
    "\n",
    "# Create an encoder using GPT-2's tokenizer\n",
    "encoding = tiktoken.get_encoding(\"gpt2\")\n",
    "\n",
    "# Example text\n",
    "text = \"Hello world! This is an example of tiktoken tokenization.\"\n",
    "\n",
    "# Encode the text into tokens\n",
    "tokens = encoding.encode(text)\n",
    "print(\"Encoded tokens:\", tokens)\n",
    "\n",
    "# Decode back to text\n",
    "decoded_text = encoding.decode(tokens)\n",
    "print(\"\\nDecoded text:\", decoded_text)\n",
    "\n",
    "# Get the number of tokens\n",
    "print(f\"\\nNumber of tokens: {len(tokens)}\")\n",
    "\n",
    "# See each token and its text representation\n",
    "print(\"\\nToken-by-token breakdown:\")\n",
    "for token in tokens:\n",
    "    print(f\"Token {token}: {encoding.decode([token])!r}\")"
   ],
   "id": "a78780732dcf433b",
   "outputs": [
    {
     "name": "stdout",
     "output_type": "stream",
     "text": [
      "Encoded tokens: [15496, 995, 0, 770, 318, 281, 1672, 286, 256, 1134, 30001, 11241, 1634, 13]\n",
      "\n",
      "Decoded text: Hello world! This is an example of tiktoken tokenization.\n",
      "\n",
      "Number of tokens: 14\n",
      "\n",
      "Token-by-token breakdown:\n",
      "Token 15496: 'Hello'\n",
      "Token 995: ' world'\n",
      "Token 0: '!'\n",
      "Token 770: ' This'\n",
      "Token 318: ' is'\n",
      "Token 281: ' an'\n",
      "Token 1672: ' example'\n",
      "Token 286: ' of'\n",
      "Token 256: ' t'\n",
      "Token 1134: 'ik'\n",
      "Token 30001: 'token'\n",
      "Token 11241: ' token'\n",
      "Token 1634: 'ization'\n",
      "Token 13: '.'\n"
     ]
    }
   ],
   "execution_count": 22
  },
  {
   "metadata": {
    "ExecuteTime": {
     "end_time": "2025-07-12T11:38:18.103455Z",
     "start_time": "2025-07-12T11:38:16.564709Z"
    }
   },
   "cell_type": "code",
   "source": [
    "# Try different encodings\n",
    "print(\"Available encodings:\", tiktoken.list_encoding_names())\n",
    "\n",
    "# Create encoders for different models\n",
    "gpt2_encoder = tiktoken.get_encoding(\"gpt2\")\n",
    "cl100k_encoder = tiktoken.get_encoding(\"cl100k_base\")  # Used by GPT-4\n",
    "\n",
    "# Compare tokenization\n",
    "text = \"Hello world! Let's try different encoders.\"\n",
    "print(\"\\nGPT-2 tokens:\", gpt2_encoder.encode(text))\n",
    "print(\"CL100K tokens:\", cl100k_encoder.encode(text))"
   ],
   "id": "e2960e0ba3ae0b1f",
   "outputs": [
    {
     "name": "stdout",
     "output_type": "stream",
     "text": [
      "Available encodings: ['gpt2', 'r50k_base', 'p50k_base', 'p50k_edit', 'cl100k_base', 'o200k_base']\n",
      "\n",
      "GPT-2 tokens: [15496, 995, 0, 3914, 338, 1949, 1180, 2207, 375, 364, 13]\n",
      "CL100K tokens: [9906, 1917, 0, 6914, 596, 1456, 2204, 3289, 53598, 13]\n"
     ]
    }
   ],
   "execution_count": 23
  },
  {
   "metadata": {},
   "cell_type": "markdown",
   "source": "## 2.6 Data sampling with sliding window",
   "id": "272d4a185da0deb8"
  },
  {
   "metadata": {
    "ExecuteTime": {
     "end_time": "2025-07-12T11:38:21.001760Z",
     "start_time": "2025-07-12T11:38:18.139033Z"
    }
   },
   "cell_type": "code",
   "source": [
    "import torch\n",
    "print(\"PyTorch version:\", torch.__version__)"
   ],
   "id": "cdc13b6d829a2aad",
   "outputs": [
    {
     "name": "stdout",
     "output_type": "stream",
     "text": [
      "PyTorch version: 2.7.1\n"
     ]
    }
   ],
   "execution_count": 24
  },
  {
   "metadata": {
    "ExecuteTime": {
     "end_time": "2025-07-12T11:38:21.051476Z",
     "start_time": "2025-07-12T11:38:21.042344Z"
    }
   },
   "cell_type": "code",
   "source": [
    "from torch.utils.data import Dataset, DataLoader\n",
    "\n",
    "class GPTDatasetV1(Dataset):\n",
    "    def __init__(self, txt, tokenizer, max_length, stride):\n",
    "        self.input_ids = []\n",
    "        self.target_ids = []\n",
    "\n",
    "        # Tokenize the entire text\n",
    "        token_ids = tokenizer.encode(txt, allowed_special={\"<|endoftext|>\"})\n",
    "        assert len(token_ids) > max_length, \"Number of tokenized inputs must at least be equal to max_length+1\"\n",
    "\n",
    "        # Use a sliding window to chunk the book into overlapping sequences of max_length\n",
    "        for i in range(0, len(token_ids) - max_length, stride):\n",
    "            input_chunk = token_ids[i:i + max_length]\n",
    "            target_chunk = token_ids[i + 1: i + max_length + 1]\n",
    "            self.input_ids.append(torch.tensor(input_chunk))\n",
    "            self.target_ids.append(torch.tensor(target_chunk))\n",
    "\n",
    "    def __len__(self):\n",
    "        return len(self.input_ids)\n",
    "\n",
    "    def __getitem__(self, idx):\n",
    "        return self.input_ids[idx], self.target_ids[idx]"
   ],
   "id": "7034dcaf23231980",
   "outputs": [],
   "execution_count": 25
  },
  {
   "metadata": {
    "ExecuteTime": {
     "end_time": "2025-07-12T11:38:21.079748Z",
     "start_time": "2025-07-12T11:38:21.076617Z"
    }
   },
   "cell_type": "code",
   "source": [
    "def create_dataloader_v1(txt, batch_size=4, max_length=256,\n",
    "                         stride=128, shuffle=True, drop_last=True,\n",
    "                         num_workers=0):\n",
    "\n",
    "    # Initialize the tokenizer\n",
    "    tokenizer = tiktoken.get_encoding(\"gpt2\")\n",
    "\n",
    "    # Create dataset\n",
    "    dataset = GPTDatasetV1(txt, tokenizer, max_length, stride)\n",
    "\n",
    "    # Create dataloader\n",
    "    dataloader = DataLoader(\n",
    "        dataset,\n",
    "        batch_size=batch_size,\n",
    "        shuffle=shuffle,\n",
    "        drop_last=drop_last,\n",
    "        num_workers=num_workers\n",
    "    )\n",
    "\n",
    "    return dataloader"
   ],
   "id": "ce9ac24402de2ad0",
   "outputs": [],
   "execution_count": 26
  },
  {
   "metadata": {
    "ExecuteTime": {
     "end_time": "2025-07-12T11:38:21.095785Z",
     "start_time": "2025-07-12T11:38:21.089635Z"
    }
   },
   "cell_type": "code",
   "source": [
    "with open(\"the-verdict.txt\", \"r\", encoding=\"utf-8\") as f:\n",
    "    raw_text = f.read()"
   ],
   "id": "dfdc1ac08fe16be8",
   "outputs": [],
   "execution_count": 27
  },
  {
   "metadata": {
    "ExecuteTime": {
     "end_time": "2025-07-12T11:38:21.150533Z",
     "start_time": "2025-07-12T11:38:21.108962Z"
    }
   },
   "cell_type": "code",
   "source": [
    "dataloader = create_dataloader_v1(\n",
    "    raw_text,\n",
    "    batch_size=1,      # Only one sequence per batch\n",
    "    max_length=4,      # Each sequence is 4 tokens long\n",
    "    stride=1,          # Move window by 1 token each time\n",
    "    shuffle=False      # Keep sequences in order\n",
    ")\n",
    "\n",
    "data_iter = iter(dataloader)\n",
    "first_batch = next(data_iter)\n",
    "print(first_batch)"
   ],
   "id": "53d5df7870620e23",
   "outputs": [
    {
     "name": "stdout",
     "output_type": "stream",
     "text": [
      "[tensor([[  40,  367, 2885, 1464]]), tensor([[ 367, 2885, 1464, 1807]])]\n"
     ]
    }
   ],
   "execution_count": 28
  },
  {
   "metadata": {
    "ExecuteTime": {
     "end_time": "2025-07-12T11:38:21.167595Z",
     "start_time": "2025-07-12T11:38:21.162882Z"
    }
   },
   "cell_type": "code",
   "source": [
    "second_batch = next(data_iter)\n",
    "print(second_batch)"
   ],
   "id": "f5d4a04f5e86daa9",
   "outputs": [
    {
     "name": "stdout",
     "output_type": "stream",
     "text": [
      "[tensor([[ 367, 2885, 1464, 1807]]), tensor([[2885, 1464, 1807, 3619]])]\n"
     ]
    }
   ],
   "execution_count": 29
  },
  {
   "metadata": {},
   "cell_type": "markdown",
   "source": "## 2.7 Creating Token embeddings",
   "id": "3b84653bbdfaccda"
  },
  {
   "metadata": {
    "ExecuteTime": {
     "end_time": "2025-07-12T11:38:21.195078Z",
     "start_time": "2025-07-12T11:38:21.189874Z"
    }
   },
   "cell_type": "code",
   "source": [
    "import torch.nn as nn\n",
    "\n",
    "# Let's say we have a small vocabulary of 5 words\n",
    "vocab_size = 5        # Total unique tokens in our vocabulary\n",
    "embedding_dim = 3     # Size of the embedding vector for each token\n",
    "\n",
    "# Create an embedding layer\n",
    "embedding_layer = nn.Embedding(\n",
    "    num_embeddings=vocab_size,  # Size of the vocabulary\n",
    "    embedding_dim=embedding_dim  # Size of the embedding vector\n",
    ")\n",
    "\n",
    "# Example input: batch of token IDs\n",
    "# Let's say we have 2 sequences, each with 4 tokens\n",
    "token_ids = torch.tensor([\n",
    "    [0, 2, 1, 3],  # First sequence\n",
    "    [1, 1, 4, 2]   # Second sequence\n",
    "])\n",
    "\n",
    "# Get embeddings for these tokens\n",
    "embedded_tokens = embedding_layer(token_ids)\n",
    "\n",
    "print(\"Input shape:\", token_ids.shape)\n",
    "print(\"Output shape:\", embedded_tokens.shape)\n",
    "print(\"\\nEmbeddings for first sequence:\")\n",
    "print(embedded_tokens[0])"
   ],
   "id": "b095cb4e0bee1b9c",
   "outputs": [
    {
     "name": "stdout",
     "output_type": "stream",
     "text": [
      "Input shape: torch.Size([2, 4])\n",
      "Output shape: torch.Size([2, 4, 3])\n",
      "\n",
      "Embeddings for first sequence:\n",
      "tensor([[-0.6969,  1.2751, -0.9391],\n",
      "        [-1.0232, -0.6272, -0.0636],\n",
      "        [-0.2872, -0.8780, -0.4974],\n",
      "        [-0.7368, -1.6287, -1.3178]], grad_fn=<SelectBackward0>)\n"
     ]
    }
   ],
   "execution_count": 30
  },
  {
   "metadata": {},
   "cell_type": "markdown",
   "source": "## 2.8 Encoding word positions",
   "id": "613a992f8262d95d"
  },
  {
   "metadata": {
    "ExecuteTime": {
     "end_time": "2025-07-12T11:38:21.663077Z",
     "start_time": "2025-07-12T11:38:21.221243Z"
    }
   },
   "cell_type": "code",
   "source": [
    "import tiktoken\n",
    "\n",
    "# Initialize tokenizer\n",
    "tokenizer = tiktoken.get_encoding(\"gpt2\")\n",
    "\n",
    "# Example text\n",
    "text = \"Hello world!\"\n",
    "\n",
    "# Convert text to token IDs\n",
    "token_ids = tokenizer.encode(text)\n",
    "token_ids = torch.tensor([token_ids])  # Add batch dimension\n",
    "\n",
    "# Create embedding layer with GPT-2 vocabulary size\n",
    "gpt2_embedding = nn.Embedding(\n",
    "    num_embeddings=50257,  # GPT-2 vocabulary size\n",
    "    embedding_dim=768  # Standard GPT-2 embedding dimension\n",
    ")\n",
    "\n",
    "# Get embeddings\n",
    "embeddings = gpt2_embedding(token_ids)\n",
    "\n",
    "print(\"Token IDs shape:\", token_ids.shape)\n",
    "print(\"Embeddings shape:\", embeddings.shape)"
   ],
   "id": "d35660ef7cb81fe4",
   "outputs": [
    {
     "name": "stdout",
     "output_type": "stream",
     "text": [
      "Token IDs shape: torch.Size([1, 3])\n",
      "Embeddings shape: torch.Size([1, 3, 768])\n"
     ]
    }
   ],
   "execution_count": 31
  }
 ],
 "metadata": {
  "kernelspec": {
   "display_name": "Python 3",
   "language": "python",
   "name": "python3"
  },
  "language_info": {
   "codemirror_mode": {
    "name": "ipython",
    "version": 2
   },
   "file_extension": ".py",
   "mimetype": "text/x-python",
   "name": "python",
   "nbconvert_exporter": "python",
   "pygments_lexer": "ipython2",
   "version": "2.7.6"
  }
 },
 "nbformat": 4,
 "nbformat_minor": 5
}
