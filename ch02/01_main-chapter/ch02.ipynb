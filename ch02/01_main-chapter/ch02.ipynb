{
 "cells": [
  {
   "metadata": {},
   "cell_type": "markdown",
   "source": "## 2.2 Tokenizing text",
   "id": "8be5af3293c7b497"
  },
  {
   "cell_type": "code",
   "id": "initial_id",
   "metadata": {
    "collapsed": true,
    "ExecuteTime": {
     "end_time": "2025-08-10T13:16:13.140480Z",
     "start_time": "2025-08-10T13:16:13.120279Z"
    }
   },
   "source": [
    "import os\n",
    "import urllib.request\n",
    "\n",
    "if not os.path.exists('the-verdict.txt'):\n",
    "    url = 'https://raw.githubusercontent.com/GlebTanaka/LLMs-from-scratch/refs/heads/main/ch02/01_main-chapter-code/the-verdict.txt'\n",
    "    file_path = 'the-verdict.txt'\n",
    "    urllib.request.urlretrieve(url, file_path)"
   ],
   "outputs": [],
   "execution_count": 1
  },
  {
   "metadata": {
    "ExecuteTime": {
     "end_time": "2025-08-10T13:16:13.220754Z",
     "start_time": "2025-08-10T13:16:13.213177Z"
    }
   },
   "cell_type": "code",
   "source": [
    "# Read the file and get character count\n",
    "with open('the-verdict.txt', 'r', encoding='utf-8') as file:\n",
    "    the_verdict_text = file.read()\n",
    "    char_count = len(the_verdict_text)\n",
    "print(f\"Total number of characters in the file: {char_count}\")\n",
    "print(the_verdict_text[:99])"
   ],
   "id": "e9af8606c4a2b890",
   "outputs": [
    {
     "name": "stdout",
     "output_type": "stream",
     "text": [
      "Total number of characters in the file: 20479\n",
      "I HAD always thought Jack Gisburn rather a cheap genius--though a good fellow enough--so it was no \n"
     ]
    }
   ],
   "execution_count": 2
  },
  {
   "metadata": {
    "ExecuteTime": {
     "end_time": "2025-08-10T13:16:13.291074Z",
     "start_time": "2025-08-10T13:16:13.285212Z"
    }
   },
   "cell_type": "code",
   "source": [
    "import re\n",
    "\n",
    "# Sample sentence\n",
    "sample_sentence = \"Hello, world! This is a simple example of tokenization (using regex).\"\n",
    "\n",
    "# Tokenize using re.findall\n",
    "# \\w+ matches one or more word characters (letters, digits, underscores)\n",
    "tokens = re.findall(r'\\w+', sample_sentence.lower())\n",
    "\n",
    "print(\"Original text:\", sample_sentence)\n",
    "print(\"\\nTokens:\", tokens)\n",
    "print(\"Number of tokens:\", len(tokens))"
   ],
   "id": "1f5cbbf58e598d6f",
   "outputs": [
    {
     "name": "stdout",
     "output_type": "stream",
     "text": [
      "Original text: Hello, world! This is a simple example of tokenization (using regex).\n",
      "\n",
      "Tokens: ['hello', 'world', 'this', 'is', 'a', 'simple', 'example', 'of', 'tokenization', 'using', 'regex']\n",
      "Number of tokens: 11\n"
     ]
    }
   ],
   "execution_count": 3
  },
  {
   "metadata": {
    "ExecuteTime": {
     "end_time": "2025-08-10T13:16:13.346497Z",
     "start_time": "2025-08-10T13:16:13.334243Z"
    }
   },
   "cell_type": "code",
   "source": [
    "# A few example texts with different patterns\n",
    "texts = [\n",
    "    \"Hello world\",                    # Simple space-separated\n",
    "    \"Hello, world!\",                  # With punctuation\n",
    "    \"Is this--a test?\",              # With double dash\n",
    "    \"Word. Another word... Final\"     # With multiple dots\n",
    "]\n",
    "\n",
    "# Try different patterns\n",
    "patterns = [\n",
    "    r'\\w+',                          # Just words\n",
    "    r'[A-Za-z]+',                    # Only letters\n",
    "    r'([,.:;?_!\"()\\']|--|\\s)',      # more complex pattern\n",
    "    r'\\S+'                           # Non-whitespace chunks\n",
    "]\n",
    "\n",
    "# Test each pattern on each text\n",
    "for text in texts:\n",
    "    print(f\"\\nOriginal text: '{text}'\")\n",
    "    for pattern in patterns:\n",
    "        print(f\"\\nPattern '{pattern}':\")\n",
    "        if pattern.startswith('('):\n",
    "            # Use split for patterns with groups\n",
    "            tokens = [t.strip() for t in re.split(pattern, text) if t.strip()]\n",
    "        else:\n",
    "            # Use findall for simple patterns\n",
    "            tokens = re.findall(pattern, text)\n",
    "        print(f\"Tokens: {tokens}\")"
   ],
   "id": "2f347d40432f9607",
   "outputs": [
    {
     "name": "stdout",
     "output_type": "stream",
     "text": [
      "\n",
      "Original text: 'Hello world'\n",
      "\n",
      "Pattern '\\w+':\n",
      "Tokens: ['Hello', 'world']\n",
      "\n",
      "Pattern '[A-Za-z]+':\n",
      "Tokens: ['Hello', 'world']\n",
      "\n",
      "Pattern '([,.:;?_!\"()\\']|--|\\s)':\n",
      "Tokens: ['Hello', 'world']\n",
      "\n",
      "Pattern '\\S+':\n",
      "Tokens: ['Hello', 'world']\n",
      "\n",
      "Original text: 'Hello, world!'\n",
      "\n",
      "Pattern '\\w+':\n",
      "Tokens: ['Hello', 'world']\n",
      "\n",
      "Pattern '[A-Za-z]+':\n",
      "Tokens: ['Hello', 'world']\n",
      "\n",
      "Pattern '([,.:;?_!\"()\\']|--|\\s)':\n",
      "Tokens: ['Hello', ',', 'world', '!']\n",
      "\n",
      "Pattern '\\S+':\n",
      "Tokens: ['Hello,', 'world!']\n",
      "\n",
      "Original text: 'Is this--a test?'\n",
      "\n",
      "Pattern '\\w+':\n",
      "Tokens: ['Is', 'this', 'a', 'test']\n",
      "\n",
      "Pattern '[A-Za-z]+':\n",
      "Tokens: ['Is', 'this', 'a', 'test']\n",
      "\n",
      "Pattern '([,.:;?_!\"()\\']|--|\\s)':\n",
      "Tokens: ['Is', 'this', '--', 'a', 'test', '?']\n",
      "\n",
      "Pattern '\\S+':\n",
      "Tokens: ['Is', 'this--a', 'test?']\n",
      "\n",
      "Original text: 'Word. Another word... Final'\n",
      "\n",
      "Pattern '\\w+':\n",
      "Tokens: ['Word', 'Another', 'word', 'Final']\n",
      "\n",
      "Pattern '[A-Za-z]+':\n",
      "Tokens: ['Word', 'Another', 'word', 'Final']\n",
      "\n",
      "Pattern '([,.:;?_!\"()\\']|--|\\s)':\n",
      "Tokens: ['Word', '.', 'Another', 'word', '.', '.', '.', 'Final']\n",
      "\n",
      "Pattern '\\S+':\n",
      "Tokens: ['Word.', 'Another', 'word...', 'Final']\n"
     ]
    }
   ],
   "execution_count": 4
  },
  {
   "metadata": {
    "ExecuteTime": {
     "end_time": "2025-08-10T13:16:13.407272Z",
     "start_time": "2025-08-10T13:16:13.396808Z"
    }
   },
   "cell_type": "code",
   "source": [
    "# Define the pattern as a variable\n",
    "pattern = r'([,.:;?_!\"()\\']|--|\\s)'\n",
    "\n",
    "# Tokenize using the pattern\n",
    "tokens = [token.strip() for token in re.split(pattern, the_verdict_text) if token.strip()]\n",
    "\n",
    "print(\"\\nTokens:\", tokens[:30])\n",
    "print(\"Number of tokens:\", len(tokens))\n"
   ],
   "id": "678e5400ac22b9bb",
   "outputs": [
    {
     "name": "stdout",
     "output_type": "stream",
     "text": [
      "\n",
      "Tokens: ['I', 'HAD', 'always', 'thought', 'Jack', 'Gisburn', 'rather', 'a', 'cheap', 'genius', '--', 'though', 'a', 'good', 'fellow', 'enough', '--', 'so', 'it', 'was', 'no', 'great', 'surprise', 'to', 'me', 'to', 'hear', 'that', ',', 'in']\n",
      "Number of tokens: 4690\n"
     ]
    }
   ],
   "execution_count": 5
  },
  {
   "metadata": {},
   "cell_type": "markdown",
   "source": "## 2.3 Converting tokens into token IDs",
   "id": "a7492d767fbae6d1"
  },
  {
   "metadata": {
    "ExecuteTime": {
     "end_time": "2025-08-10T13:16:13.477534Z",
     "start_time": "2025-08-10T13:16:13.469080Z"
    }
   },
   "cell_type": "code",
   "source": [
    "# Convert tokens to a sorted set (vocabulary)\n",
    "vocab = sorted(set(tokens))\n",
    "\n",
    "print(\"Vocabulary (unique tokens):\", vocab[:5])\n",
    "print(\"Vocabulary size:\", len(vocab))\n",
    "\n",
    "# Create a token-to-id mapping dictionary\n",
    "token_to_id = {token: idx for idx, token in enumerate(vocab)}\n",
    "\n",
    "# Convert tokens to IDs\n",
    "token_ids = [token_to_id[token] for token in tokens]\n",
    "\n",
    "# Print first 5 items from token_to_id dictionary\n",
    "print(\"\\nFirst 5 token-to-ID mappings:\")\n",
    "for i, (token, id_num) in enumerate(token_to_id.items()):\n",
    "    if i >= 5:\n",
    "        break\n",
    "    print(f\"'{token}' -> {id_num}\")\n",
    "\n",
    "# Print first 10 token IDs\n",
    "print(\"\\nFirst 10 tokens as IDs:\", token_ids[:10])"
   ],
   "id": "565fbea11910e0c1",
   "outputs": [
    {
     "name": "stdout",
     "output_type": "stream",
     "text": [
      "Vocabulary (unique tokens): ['!', '\"', \"'\", '(', ')']\n",
      "Vocabulary size: 1130\n",
      "\n",
      "First 5 token-to-ID mappings:\n",
      "'!' -> 0\n",
      "'\"' -> 1\n",
      "''' -> 2\n",
      "'(' -> 3\n",
      "')' -> 4\n",
      "\n",
      "First 10 tokens as IDs: [53, 44, 149, 1003, 57, 38, 818, 115, 256, 486]\n"
     ]
    }
   ],
   "execution_count": 6
  },
  {
   "metadata": {
    "ExecuteTime": {
     "end_time": "2025-08-10T13:16:13.677476Z",
     "start_time": "2025-08-10T13:16:13.671742Z"
    }
   },
   "cell_type": "code",
   "source": [
    "class SimpleTokenizerV1:\n",
    "    def __init__(self, vocab):\n",
    "        self.str_to_int = vocab # Dictionary mapping tokens to IDs\n",
    "        self.int_to_str = {i:s for s,i in vocab.items()} # Reverse mapping: IDs to tokens\n",
    "\n",
    "    def encode(self, text):\n",
    "        preprocessed = re.split(r'([,.:;?_!\"()\\']|--|\\s)', text)\n",
    "\n",
    "        preprocessed = [\n",
    "            item.strip() for item in preprocessed if item.strip()\n",
    "        ]\n",
    "        ids = [self.str_to_int[s] for s in preprocessed]\n",
    "        return ids\n",
    "\n",
    "    def decode(self, ids):\n",
    "        text = \" \".join([self.int_to_str[i] for i in ids])\n",
    "        # Replace spaces before the specified punctuations\n",
    "        text = re.sub(r'\\s+([,.?!\"()\\'])', r'\\1', text)\n",
    "        return text"
   ],
   "id": "7f9a93d7a2edb09f",
   "outputs": [],
   "execution_count": 7
  },
  {
   "metadata": {
    "ExecuteTime": {
     "end_time": "2025-08-10T13:16:13.699717Z",
     "start_time": "2025-08-10T13:16:13.692653Z"
    }
   },
   "cell_type": "code",
   "source": [
    "# Example usage\n",
    "vocab = {'hello': 0, 'world': 1, '!': 2}\n",
    "tokenizer = SimpleTokenizerV1(vocab)\n",
    "\n",
    "# Encoding\n",
    "ids = tokenizer.encode(\"hello world!\")  # Returns: [0, 1, 2]\n",
    "\n",
    "# Decoding\n",
    "text = tokenizer.decode([0, 1, 2])  # Returns: \"hello world!\"\n",
    "print(text)"
   ],
   "id": "ef30c078e400d7bd",
   "outputs": [
    {
     "name": "stdout",
     "output_type": "stream",
     "text": [
      "hello world!\n"
     ]
    }
   ],
   "execution_count": 8
  },
  {
   "metadata": {
    "ExecuteTime": {
     "end_time": "2025-08-10T13:16:13.736113Z",
     "start_time": "2025-08-10T13:16:13.717587Z"
    }
   },
   "cell_type": "code",
   "source": [
    "# Using tokenizer on prior created vocabulary.\n",
    "tokenizer_2 = SimpleTokenizerV1(token_to_id)\n",
    "\n",
    "text_section = \"\"\"\"It's the last he painted, you know,\"\n",
    "           Mrs. Gisburn said with pardonable pride.\"\"\"\n",
    "ids = tokenizer_2.encode(text_section)\n",
    "print(ids)"
   ],
   "id": "4a4df1097d08985b",
   "outputs": [
    {
     "name": "stdout",
     "output_type": "stream",
     "text": [
      "[1, 56, 2, 850, 988, 602, 533, 746, 5, 1126, 596, 5, 1, 67, 7, 38, 851, 1108, 754, 793, 7]\n"
     ]
    }
   ],
   "execution_count": 9
  },
  {
   "metadata": {
    "ExecuteTime": {
     "end_time": "2025-08-10T13:16:13.758314Z",
     "start_time": "2025-08-10T13:16:13.746832Z"
    }
   },
   "cell_type": "code",
   "source": [
    "# decode integers into text\n",
    "tokenizer_2.decode(ids)"
   ],
   "id": "4accfc0a72ed03fc",
   "outputs": [
    {
     "data": {
      "text/plain": [
       "'\" It\\' s the last he painted, you know,\" Mrs. Gisburn said with pardonable pride.'"
      ]
     },
     "execution_count": 10,
     "metadata": {},
     "output_type": "execute_result"
    }
   ],
   "execution_count": 10
  },
  {
   "metadata": {
    "ExecuteTime": {
     "end_time": "2025-08-10T13:16:13.781020Z",
     "start_time": "2025-08-10T13:16:13.773241Z"
    }
   },
   "cell_type": "code",
   "source": [
    "# First tokenizer_2.encode(text_section) converts the text into a list of token IDs\n",
    "# Then tokenizer_2.decode() converts those IDs back into text\n",
    "# This is a roundtrip conversion: text -> IDs -> text\n",
    "# Useful for testing if the tokenizer preserves the text correctly\n",
    "tokenizer_2.decode(tokenizer_2.encode(text_section))"
   ],
   "id": "b54cc06bacd83dd7",
   "outputs": [
    {
     "data": {
      "text/plain": [
       "'\" It\\' s the last he painted, you know,\" Mrs. Gisburn said with pardonable pride.'"
      ]
     },
     "execution_count": 11,
     "metadata": {},
     "output_type": "execute_result"
    }
   ],
   "execution_count": 11
  },
  {
   "metadata": {},
   "cell_type": "markdown",
   "source": "## 2.4 Adding special context tokens",
   "id": "83ad50c4df5e8fd2"
  },
  {
   "metadata": {
    "ExecuteTime": {
     "end_time": "2025-08-10T13:16:13.798180Z",
     "start_time": "2025-08-10T13:16:13.793681Z"
    }
   },
   "cell_type": "code",
   "source": [
    "# length before adding special tokens\n",
    "len(token_to_id.items())"
   ],
   "id": "9a1432415e01fe37",
   "outputs": [
    {
     "data": {
      "text/plain": [
       "1130"
      ]
     },
     "execution_count": 12,
     "metadata": {},
     "output_type": "execute_result"
    }
   ],
   "execution_count": 12
  },
  {
   "metadata": {
    "ExecuteTime": {
     "end_time": "2025-08-10T13:16:13.823567Z",
     "start_time": "2025-08-10T13:16:13.818196Z"
    }
   },
   "cell_type": "code",
   "source": [
    "# Add special tokens - using the next available IDs\n",
    "next_id = len(token_to_id)  # Get the next available ID\n",
    "\n",
    "# Add end of line token\n",
    "token_to_id['<|endoftext|>'] = next_id\n",
    "next_id += 1\n",
    "\n",
    "# Add unknown word token\n",
    "token_to_id[('<|unk|>')] = next_id\n",
    "\n",
    "# Print the new tokens and their IDs\n",
    "print(\"Special tokens added:\")\n",
    "print(f\"<|endoftext|> token ID: {token_to_id['<|endoftext|>']}\")\n",
    "print(f\"<|unk|> token ID: {token_to_id['<|unk|>']}\")"
   ],
   "id": "a480bb88bebeb649",
   "outputs": [
    {
     "name": "stdout",
     "output_type": "stream",
     "text": [
      "Special tokens added:\n",
      "<|endoftext|> token ID: 1130\n",
      "<|unk|> token ID: 1131\n"
     ]
    }
   ],
   "execution_count": 13
  },
  {
   "metadata": {
    "ExecuteTime": {
     "end_time": "2025-08-10T13:16:13.842669Z",
     "start_time": "2025-08-10T13:16:13.837999Z"
    }
   },
   "cell_type": "code",
   "source": [
    "# length after adding special tokens:\n",
    "len(token_to_id.items())"
   ],
   "id": "b630a1c9144f4654",
   "outputs": [
    {
     "data": {
      "text/plain": [
       "1132"
      ]
     },
     "execution_count": 14,
     "metadata": {},
     "output_type": "execute_result"
    }
   ],
   "execution_count": 14
  },
  {
   "metadata": {
    "ExecuteTime": {
     "end_time": "2025-08-10T13:16:13.860497Z",
     "start_time": "2025-08-10T13:16:13.856235Z"
    }
   },
   "cell_type": "code",
   "source": [
    "for i, item in enumerate(list(token_to_id.items())[-5:]):\n",
    "    print(item)"
   ],
   "id": "1312e370fe2db8c1",
   "outputs": [
    {
     "name": "stdout",
     "output_type": "stream",
     "text": [
      "('younger', 1127)\n",
      "('your', 1128)\n",
      "('yourself', 1129)\n",
      "('<|endoftext|>', 1130)\n",
      "('<|unk|>', 1131)\n"
     ]
    }
   ],
   "execution_count": 15
  },
  {
   "metadata": {
    "ExecuteTime": {
     "end_time": "2025-08-10T13:16:13.892390Z",
     "start_time": "2025-08-10T13:16:13.879048Z"
    }
   },
   "cell_type": "code",
   "source": [
    "# adjust the tokenizer to use unknown words:\n",
    "class SimpleTokenizerV2:\n",
    "    def __init__(self, vocab):\n",
    "        self.str_to_int = vocab\n",
    "        self.int_to_str = {i:s for s,i in vocab.items()}\n",
    "        # Store the '<|unk|>' token ID for easy access\n",
    "        self.unk_token_id = vocab['<|unk|>']\n",
    "\n",
    "    def encode(self, text):\n",
    "        preprocessed = re.split(r'([,.:;?_!\"()\\']|--|\\s)', text)\n",
    "\n",
    "        preprocessed = [\n",
    "            item.strip() for item in preprocessed if item.strip()\n",
    "        ]\n",
    "        # Use get() with unk_token_id as default for unknown words\n",
    "        ids = [self.str_to_int.get(s, self.unk_token_id) for s in preprocessed]\n",
    "        return ids\n",
    "\n",
    "    def decode(self, ids):\n",
    "        text = \" \".join([self.int_to_str[i] for i in ids])\n",
    "        # Replace spaces before the specified punctuations\n",
    "        text = re.sub(r'\\s+([,.?!\"()\\'])', r'\\1', text)\n",
    "        return text"
   ],
   "id": "88657cc0c470786",
   "outputs": [],
   "execution_count": 16
  },
  {
   "metadata": {
    "ExecuteTime": {
     "end_time": "2025-08-10T13:16:13.922354Z",
     "start_time": "2025-08-10T13:16:13.913764Z"
    }
   },
   "cell_type": "code",
   "source": [
    "tokenizer = SimpleTokenizerV2(token_to_id)\n",
    "# This will work even with words not in our vocabulary\n",
    "test_text = \"hello nonexistentword world\"\n",
    "encoded = tokenizer.encode(test_text)\n",
    "decoded = tokenizer.decode(encoded)\n",
    "print(decoded)"
   ],
   "id": "8a616c729d96891b",
   "outputs": [
    {
     "name": "stdout",
     "output_type": "stream",
     "text": [
      "<|unk|> <|unk|> <|unk|>\n"
     ]
    }
   ],
   "execution_count": 17
  },
  {
   "metadata": {
    "ExecuteTime": {
     "end_time": "2025-08-10T13:16:13.962557Z",
     "start_time": "2025-08-10T13:16:13.955231Z"
    }
   },
   "cell_type": "code",
   "source": [
    "# example with sentences from the verdict\n",
    "text1 = \"Hello, do you like tea?\"\n",
    "text2 = \"In the sunlit terraces of the palace.\"\n",
    "\n",
    "text = \" <|endoftext|> \".join((text1, text2))\n",
    "\n",
    "print(text)"
   ],
   "id": "32ac9304401e9129",
   "outputs": [
    {
     "name": "stdout",
     "output_type": "stream",
     "text": [
      "Hello, do you like tea? <|endoftext|> In the sunlit terraces of the palace.\n"
     ]
    }
   ],
   "execution_count": 18
  },
  {
   "metadata": {
    "ExecuteTime": {
     "end_time": "2025-08-10T13:16:13.988095Z",
     "start_time": "2025-08-10T13:16:13.976186Z"
    }
   },
   "cell_type": "code",
   "source": "tokenizer.encode(text)",
   "id": "a02ad448b718da41",
   "outputs": [
    {
     "data": {
      "text/plain": [
       "[1131, 5, 355, 1126, 628, 975, 10, 1130, 55, 988, 956, 984, 722, 988, 1131, 7]"
      ]
     },
     "execution_count": 19,
     "metadata": {},
     "output_type": "execute_result"
    }
   ],
   "execution_count": 19
  },
  {
   "metadata": {
    "ExecuteTime": {
     "end_time": "2025-08-10T13:16:14.030227Z",
     "start_time": "2025-08-10T13:16:14.020995Z"
    }
   },
   "cell_type": "code",
   "source": "tokenizer.decode(tokenizer.encode(text))",
   "id": "6ddf6c1cabc34447",
   "outputs": [
    {
     "data": {
      "text/plain": [
       "'<|unk|>, do you like tea? <|endoftext|> In the sunlit terraces of the <|unk|>.'"
      ]
     },
     "execution_count": 20,
     "metadata": {},
     "output_type": "execute_result"
    }
   ],
   "execution_count": 20
  },
  {
   "metadata": {},
   "cell_type": "markdown",
   "source": "## 2.5 Byte pair encoding",
   "id": "3e7394a064cb38a6"
  },
  {
   "metadata": {
    "ExecuteTime": {
     "end_time": "2025-08-10T13:16:14.079119Z",
     "start_time": "2025-08-10T13:16:14.047952Z"
    }
   },
   "cell_type": "code",
   "source": [
    "import tiktoken\n",
    "tiktoken.__version__"
   ],
   "id": "cdce3a20eb9e5f7d",
   "outputs": [
    {
     "data": {
      "text/plain": [
       "'0.9.0'"
      ]
     },
     "execution_count": 21,
     "metadata": {},
     "output_type": "execute_result"
    }
   ],
   "execution_count": 21
  },
  {
   "metadata": {
    "ExecuteTime": {
     "end_time": "2025-08-10T13:16:14.334452Z",
     "start_time": "2025-08-10T13:16:14.097117Z"
    }
   },
   "cell_type": "code",
   "source": [
    "import tiktoken\n",
    "\n",
    "# Create an encoder using GPT-2's tokenizer\n",
    "encoding = tiktoken.get_encoding(\"gpt2\")\n",
    "\n",
    "# Example text\n",
    "text = \"Hello world! This is an example of tiktoken tokenization.\"\n",
    "\n",
    "# Encode the text into tokens\n",
    "tokens = encoding.encode(text)\n",
    "print(\"Encoded tokens:\", tokens)\n",
    "\n",
    "# Decode back to text\n",
    "decoded_text = encoding.decode(tokens)\n",
    "print(\"\\nDecoded text:\", decoded_text)\n",
    "\n",
    "# Get the number of tokens\n",
    "print(f\"\\nNumber of tokens: {len(tokens)}\")\n",
    "\n",
    "# See each token and its text representation\n",
    "print(\"\\nToken-by-token breakdown:\")\n",
    "for token in tokens:\n",
    "    print(f\"Token {token}: {encoding.decode([token])!r}\")"
   ],
   "id": "a78780732dcf433b",
   "outputs": [
    {
     "name": "stdout",
     "output_type": "stream",
     "text": [
      "Encoded tokens: [15496, 995, 0, 770, 318, 281, 1672, 286, 256, 1134, 30001, 11241, 1634, 13]\n",
      "\n",
      "Decoded text: Hello world! This is an example of tiktoken tokenization.\n",
      "\n",
      "Number of tokens: 14\n",
      "\n",
      "Token-by-token breakdown:\n",
      "Token 15496: 'Hello'\n",
      "Token 995: ' world'\n",
      "Token 0: '!'\n",
      "Token 770: ' This'\n",
      "Token 318: ' is'\n",
      "Token 281: ' an'\n",
      "Token 1672: ' example'\n",
      "Token 286: ' of'\n",
      "Token 256: ' t'\n",
      "Token 1134: 'ik'\n",
      "Token 30001: 'token'\n",
      "Token 11241: ' token'\n",
      "Token 1634: 'ization'\n",
      "Token 13: '.'\n"
     ]
    }
   ],
   "execution_count": 22
  },
  {
   "metadata": {
    "ExecuteTime": {
     "end_time": "2025-08-10T13:16:16.356538Z",
     "start_time": "2025-08-10T13:16:14.356362Z"
    }
   },
   "cell_type": "code",
   "source": [
    "# Try different encodings\n",
    "print(\"Available encodings:\", tiktoken.list_encoding_names())\n",
    "\n",
    "# Create encoders for different models\n",
    "gpt2_encoder = tiktoken.get_encoding(\"gpt2\")\n",
    "cl100k_encoder = tiktoken.get_encoding(\"cl100k_base\")  # Used by GPT-4\n",
    "\n",
    "# Compare tokenization\n",
    "text = \"Hello world! Let's try different encoders.\"\n",
    "print(\"\\nGPT-2 tokens:\", gpt2_encoder.encode(text))\n",
    "print(\"CL100K tokens:\", cl100k_encoder.encode(text))"
   ],
   "id": "e2960e0ba3ae0b1f",
   "outputs": [
    {
     "name": "stdout",
     "output_type": "stream",
     "text": [
      "Available encodings: ['gpt2', 'r50k_base', 'p50k_base', 'p50k_edit', 'cl100k_base', 'o200k_base']\n",
      "\n",
      "GPT-2 tokens: [15496, 995, 0, 3914, 338, 1949, 1180, 2207, 375, 364, 13]\n",
      "CL100K tokens: [9906, 1917, 0, 6914, 596, 1456, 2204, 3289, 53598, 13]\n"
     ]
    }
   ],
   "execution_count": 23
  },
  {
   "metadata": {},
   "cell_type": "markdown",
   "source": "## 2.6 Data sampling with sliding window",
   "id": "272d4a185da0deb8"
  },
  {
   "metadata": {},
   "cell_type": "markdown",
   "source": [
    "The code demonstrates sliding window sampling by:\n",
    "- Taking a section of encoded text\n",
    "- Creating input-target pairs\n",
    "- Showing how context can be built up progressively\n",
    "- Demonstrating both the numerical (token IDs) and text representations\n",
    "\n",
    "This helps in understanding how language models process text as a sequence of tokens and how they use context to predict the next token"
   ],
   "id": "6367c9aa373fb1ce"
  },
  {
   "metadata": {
    "ExecuteTime": {
     "end_time": "2025-08-10T13:16:30.522689Z",
     "start_time": "2025-08-10T13:16:30.505016Z"
    }
   },
   "cell_type": "code",
   "source": [
    "# Read the input text file\n",
    "with open(\"the-verdict.txt\", \"r\", encoding=\"utf-8\") as f:\n",
    "    raw_text = f.read()\n",
    "\n",
    "# Convert the raw text into token IDs using our tokenizer\n",
    "enc_text = tokenizer.encode(raw_text)\n",
    "print(f\"Total number of tokens in the text: {len(enc_text)}\")\n",
    "\n",
    "# Take a sample starting from the 50th token to work with\n",
    "enc_sample = enc_text[50:]\n",
    "# Define the size of our context window\n",
    "context_size = 4\n",
    "\n",
    "# Create input (x) and target (y) sequences for our first example\n",
    "# x contains tokens [0:4] and y contains tokens [1:5]\n",
    "x = enc_sample[:context_size]\n",
    "y = enc_sample[1:context_size+1]\n",
    "\n",
    "print(\"\\nDemonstrating basic input-target pair:\")\n",
    "print(f\"Input sequence (x):  {x}\")\n",
    "print(f\"Target sequence (y): {y}\")\n",
    "\n",
    "print(\"\\nDemonstrating progressive context building with token IDs:\")\n",
    "# Show how we can build up context one token at a time\n",
    "for i in range(1, context_size+1):\n",
    "    context = enc_sample[:i]\n",
    "    desired = enc_sample[i]\n",
    "    # Print the increasing context size and the next token to predict\n",
    "    print(f\"Context {i} tokens: {context} ----> Next token: {desired}\")\n",
    "\n",
    "print(\"\\nDemonstrating progressive context building with decoded text:\")\n",
    "# Same as above but show the actual text instead of token IDs\n",
    "for i in range(1, context_size+1):\n",
    "    context = enc_sample[:i]\n",
    "    desired = enc_sample[i]\n",
    "    # Print the increasing context size and the next token to predict, but in readable text\n",
    "    print(f\"Context: '{tokenizer.decode(context)}' ----> Next token: '{tokenizer.decode([desired])}'\")"
   ],
   "id": "70ea9a7555629ddd",
   "outputs": [
    {
     "name": "stdout",
     "output_type": "stream",
     "text": [
      "Total number of tokens in the text: 4690\n",
      "\n",
      "Demonstrating basic input-target pair:\n",
      "Input sequence (x):  [568, 115, 1066, 727]\n",
      "Target sequence (y): [115, 1066, 727, 988]\n",
      "\n",
      "Demonstrating progressive context building with token IDs:\n",
      "Context 1 tokens: [568] ----> Next token: 115\n",
      "Context 2 tokens: [568, 115] ----> Next token: 1066\n",
      "Context 3 tokens: [568, 115, 1066] ----> Next token: 727\n",
      "Context 4 tokens: [568, 115, 1066, 727] ----> Next token: 988\n",
      "\n",
      "Demonstrating progressive context building with decoded text:\n",
      "Context: 'in' ----> Next token: 'a'\n",
      "Context: 'in a' ----> Next token: 'villa'\n",
      "Context: 'in a villa' ----> Next token: 'on'\n",
      "Context: 'in a villa on' ----> Next token: 'the'\n"
     ]
    }
   ],
   "execution_count": 24
  },
  {
   "metadata": {
    "ExecuteTime": {
     "end_time": "2025-08-10T13:16:33.862872Z",
     "start_time": "2025-08-10T13:16:31.227384Z"
    }
   },
   "cell_type": "code",
   "source": [
    "import torch\n",
    "print(\"PyTorch version:\", torch.__version__)"
   ],
   "id": "cdc13b6d829a2aad",
   "outputs": [
    {
     "name": "stdout",
     "output_type": "stream",
     "text": [
      "PyTorch version: 2.7.1\n"
     ]
    }
   ],
   "execution_count": 25
  },
  {
   "metadata": {
    "ExecuteTime": {
     "end_time": "2025-08-10T13:16:34.114931Z",
     "start_time": "2025-08-10T13:16:34.107457Z"
    }
   },
   "cell_type": "code",
   "source": [
    "from torch.utils.data import Dataset, DataLoader\n",
    "\n",
    "class GPTDatasetV1(Dataset):\n",
    "    def __init__(self, txt, tokenizer, max_length, stride):\n",
    "        self.input_ids = []\n",
    "        self.target_ids = []\n",
    "\n",
    "        # Tokenize the entire text\n",
    "        token_ids = tokenizer.encode(txt, allowed_special={\"<|endoftext|>\"})\n",
    "        assert len(token_ids) > max_length, \"Number of tokenized inputs must at least be equal to max_length+1\"\n",
    "\n",
    "        # Use a sliding window to chunk the book into overlapping sequences of max_length\n",
    "        for i in range(0, len(token_ids) - max_length, stride):\n",
    "            input_chunk = token_ids[i:i + max_length]\n",
    "            target_chunk = token_ids[i + 1: i + max_length + 1]\n",
    "            self.input_ids.append(torch.tensor(input_chunk))\n",
    "            self.target_ids.append(torch.tensor(target_chunk))\n",
    "\n",
    "    def __len__(self):\n",
    "        return len(self.input_ids)\n",
    "\n",
    "    def __getitem__(self, idx):\n",
    "        return self.input_ids[idx], self.target_ids[idx]"
   ],
   "id": "7034dcaf23231980",
   "outputs": [],
   "execution_count": 26
  },
  {
   "metadata": {
    "ExecuteTime": {
     "end_time": "2025-08-10T13:16:34.332782Z",
     "start_time": "2025-08-10T13:16:34.326509Z"
    }
   },
   "cell_type": "code",
   "source": [
    "def create_dataloader_v1(txt, batch_size=4, max_length=256,\n",
    "                         stride=128, shuffle=True, drop_last=True,\n",
    "                         num_workers=0):\n",
    "\n",
    "    # Initialize the tokenizer\n",
    "    tokenizer = tiktoken.get_encoding(\"gpt2\")\n",
    "\n",
    "    # Create dataset\n",
    "    dataset = GPTDatasetV1(txt, tokenizer, max_length, stride)\n",
    "\n",
    "    # Create dataloader\n",
    "    dataloader = DataLoader(\n",
    "        dataset,\n",
    "        batch_size=batch_size,\n",
    "        shuffle=shuffle,\n",
    "        drop_last=drop_last,\n",
    "        num_workers=num_workers\n",
    "    )\n",
    "\n",
    "    return dataloader"
   ],
   "id": "ce9ac24402de2ad0",
   "outputs": [],
   "execution_count": 27
  },
  {
   "metadata": {
    "ExecuteTime": {
     "end_time": "2025-08-10T13:16:34.427438Z",
     "start_time": "2025-08-10T13:16:34.415979Z"
    }
   },
   "cell_type": "code",
   "source": [
    "with open(\"the-verdict.txt\", \"r\", encoding=\"utf-8\") as f:\n",
    "    raw_text = f.read()"
   ],
   "id": "dfdc1ac08fe16be8",
   "outputs": [],
   "execution_count": 28
  },
  {
   "metadata": {
    "ExecuteTime": {
     "end_time": "2025-08-10T13:16:35.050250Z",
     "start_time": "2025-08-10T13:16:34.872038Z"
    }
   },
   "cell_type": "code",
   "source": [
    "dataloader = create_dataloader_v1(\n",
    "    raw_text,\n",
    "    batch_size=1,      # Only one sequence per batch\n",
    "    max_length=4,      # Each sequence is 4 tokens long\n",
    "    stride=1,          # Move window by 1 token each time\n",
    "    shuffle=False      # Keep sequences in order\n",
    ")\n",
    "\n",
    "data_iter = iter(dataloader)\n",
    "first_batch = next(data_iter)\n",
    "print(first_batch)"
   ],
   "id": "53d5df7870620e23",
   "outputs": [
    {
     "name": "stdout",
     "output_type": "stream",
     "text": [
      "[tensor([[  40,  367, 2885, 1464]]), tensor([[ 367, 2885, 1464, 1807]])]\n"
     ]
    }
   ],
   "execution_count": 29
  },
  {
   "metadata": {
    "ExecuteTime": {
     "end_time": "2025-08-10T13:16:35.179663Z",
     "start_time": "2025-08-10T13:16:35.162865Z"
    }
   },
   "cell_type": "code",
   "source": [
    "second_batch = next(data_iter)\n",
    "print(second_batch)"
   ],
   "id": "f5d4a04f5e86daa9",
   "outputs": [
    {
     "name": "stdout",
     "output_type": "stream",
     "text": [
      "[tensor([[ 367, 2885, 1464, 1807]]), tensor([[2885, 1464, 1807, 3619]])]\n"
     ]
    }
   ],
   "execution_count": 30
  },
  {
   "metadata": {},
   "cell_type": "markdown",
   "source": "## 2.7 Creating Token embeddings",
   "id": "3b84653bbdfaccda"
  },
  {
   "metadata": {
    "ExecuteTime": {
     "end_time": "2025-08-10T13:16:35.648504Z",
     "start_time": "2025-08-10T13:16:35.585771Z"
    }
   },
   "cell_type": "code",
   "source": [
    "import torch.nn as nn\n",
    "\n",
    "# Let's say we have a small vocabulary of 5 words\n",
    "vocab_size = 5        # Total unique tokens in our vocabulary\n",
    "embedding_dim = 3     # Size of the embedding vector for each token\n",
    "\n",
    "# Create an embedding layer\n",
    "embedding_layer = nn.Embedding(\n",
    "    num_embeddings=vocab_size,  # Size of the vocabulary\n",
    "    embedding_dim=embedding_dim  # Size of the embedding vector\n",
    ")\n",
    "\n",
    "# Example input: batch of token IDs\n",
    "# Let's say we have 2 sequences, each with 4 tokens\n",
    "token_ids = torch.tensor([\n",
    "    [0, 2, 1, 3],  # First sequence\n",
    "    [1, 1, 4, 2]   # Second sequence\n",
    "])\n",
    "\n",
    "# Get embeddings for these tokens\n",
    "embedded_tokens = embedding_layer(token_ids)\n",
    "\n",
    "print(\"Input shape:\", token_ids.shape)\n",
    "print(\"Output shape:\", embedded_tokens.shape)\n",
    "print(\"\\nEmbeddings for first sequence:\")\n",
    "print(embedded_tokens[0])"
   ],
   "id": "b095cb4e0bee1b9c",
   "outputs": [
    {
     "name": "stdout",
     "output_type": "stream",
     "text": [
      "Input shape: torch.Size([2, 4])\n",
      "Output shape: torch.Size([2, 4, 3])\n",
      "\n",
      "Embeddings for first sequence:\n",
      "tensor([[ 1.1997, -2.2683,  0.6205],\n",
      "        [ 0.6375,  0.7446, -0.1135],\n",
      "        [ 0.1926, -0.2064,  0.0356],\n",
      "        [ 0.4293, -0.0239,  0.6841]], grad_fn=<SelectBackward0>)\n"
     ]
    }
   ],
   "execution_count": 31
  },
  {
   "metadata": {},
   "cell_type": "markdown",
   "source": "## 2.8 Encoding word positions",
   "id": "613a992f8262d95d"
  },
  {
   "metadata": {
    "ExecuteTime": {
     "end_time": "2025-08-10T13:16:37.032654Z",
     "start_time": "2025-08-10T13:16:36.284432Z"
    }
   },
   "cell_type": "code",
   "source": [
    "import tiktoken\n",
    "\n",
    "# Initialize tokenizer\n",
    "tokenizer = tiktoken.get_encoding(\"gpt2\")\n",
    "\n",
    "# Example text\n",
    "text = \"Hello world!\"\n",
    "\n",
    "# Convert text to token IDs and add a batch dimension so the shape becomes [batch, seq_len]\n",
    "# e.g., [[15496, 995, 0]] depending on the tokenizer\n",
    "token_ids = tokenizer.encode(text)\n",
    "token_ids = torch.tensor([token_ids])  # Add batch dimension\n",
    "\n",
    "# Create embedding layer with GPT-2 vocabulary size\n",
    "# - num_embeddings: vocabulary size (index upper bound is vocab_size-1)\n",
    "# - embedding_dim: size of each token vector\n",
    "# For demonstration we use GPT‑2's common sizes (50257 vocab, 768 hidden size)\n",
    "gpt2_embedding = nn.Embedding(\n",
    "    num_embeddings=50257,  # GPT-2 vocabulary size\n",
    "    embedding_dim=768  # Standard GPT-2 embedding dimension\n",
    ")\n",
    "\n",
    "# Look up token embeddings => shape: [batch, seq_len, embedding_dim]\n",
    "embeddings = gpt2_embedding(token_ids)\n",
    "\n",
    "print(\"Token IDs shape:\", token_ids.shape)      # e.g., [1, 3]\n",
    "print(\"Embeddings shape:\", embeddings.shape)    # e.g., [1, 3, 768]"
   ],
   "id": "d35660ef7cb81fe4",
   "outputs": [
    {
     "name": "stdout",
     "output_type": "stream",
     "text": [
      "Token IDs shape: torch.Size([1, 3])\n",
      "Embeddings shape: torch.Size([1, 3, 768])\n"
     ]
    }
   ],
   "execution_count": 32
  },
  {
   "metadata": {},
   "cell_type": "markdown",
   "source": "### Example from the book: learnable token + position embeddings",
   "id": "e28c3eef290c3cab"
  },
  {
   "metadata": {
    "ExecuteTime": {
     "end_time": "2025-08-10T13:16:37.530899Z",
     "start_time": "2025-08-10T13:16:37.310398Z"
    }
   },
   "cell_type": "code",
   "source": [
    "# Token embedding configuration\n",
    "vocab_size = 50257  # tokenizer vocab size\n",
    "output_dim = 256    # model hidden size (embedding dimension)\n",
    "\n",
    "# Learnable token embedding table: maps token IDs -> vectors in R^{output_dim}\n",
    "token_embedding_layer = torch.nn.Embedding(vocab_size, output_dim)\n",
    "\n",
    "# Suppose our training pipeline feeds batches of fixed-length sequences (max_length tokens each)\n",
    "# We'll draw a single batch from the dataloader just to demonstrate shapes.\n",
    "max_length = 4\n",
    "dataloader = create_dataloader_v1(\n",
    "    raw_text, batch_size=8, max_length=max_length, stride=max_length, shuffle=False\n",
    ")\n",
    "data_iter = iter(dataloader)\n",
    "inputs, targets = next(data_iter)  # inputs: [batch, seq_len]\n",
    "print(\"Token IDs:\\n\", inputs)\n",
    "print(\"\\nInputs shape:\\n\", inputs.shape) # e.g., torch.Size([8, 4])"
   ],
   "id": "4c3bae0ea02e0a71",
   "outputs": [
    {
     "name": "stdout",
     "output_type": "stream",
     "text": [
      "Token IDs:\n",
      " tensor([[   40,   367,  2885,  1464],\n",
      "        [ 1807,  3619,   402,   271],\n",
      "        [10899,  2138,   257,  7026],\n",
      "        [15632,   438,  2016,   257],\n",
      "        [  922,  5891,  1576,   438],\n",
      "        [  568,   340,   373,   645],\n",
      "        [ 1049,  5975,   284,   502],\n",
      "        [  284,  3285,   326,    11]])\n",
      "\n",
      "Inputs shape:\n",
      " torch.Size([8, 4])\n"
     ]
    }
   ],
   "execution_count": 33
  },
  {
   "metadata": {
    "ExecuteTime": {
     "end_time": "2025-08-10T13:56:40.302639Z",
     "start_time": "2025-08-10T13:56:40.221448Z"
    }
   },
   "cell_type": "code",
   "source": [
    "# Embed the tokens: result has shape [batch, seq_len, output_dim]\n",
    "token_embeddings = token_embedding_layer(inputs)\n",
    "print(token_embeddings.shape)\n",
    "print(token_embeddings)"
   ],
   "id": "6ca46cea6dfc649e",
   "outputs": [
    {
     "name": "stdout",
     "output_type": "stream",
     "text": [
      "torch.Size([8, 4, 256])\n",
      "tensor([[[ 0.7935, -1.5521, -0.0757,  ...,  0.1973,  0.3964,  0.3699],\n",
      "         [-0.3152, -0.6270,  0.5026,  ...,  1.3847, -0.7100,  0.1380],\n",
      "         [ 1.0433, -0.6563,  1.1417,  ..., -1.7185,  1.1614, -1.0819],\n",
      "         [-0.3306,  1.0400, -0.8803,  ..., -1.6823, -0.1525, -0.2416]],\n",
      "\n",
      "        [[ 0.8192,  1.2286,  1.2404,  ...,  0.2220,  0.5345,  0.1483],\n",
      "         [-1.5531,  1.8293, -0.6717,  ..., -0.8943, -0.3155,  0.0232],\n",
      "         [-0.6936, -0.2899, -1.1548,  ...,  2.1094, -1.6945, -0.6705],\n",
      "         [ 0.2116,  0.0452, -0.9042,  ..., -0.6992, -2.1959, -0.1711]],\n",
      "\n",
      "        [[ 0.8561,  0.6646, -0.1296,  ..., -0.8893, -1.0118,  1.0650],\n",
      "         [ 0.0484,  0.0066, -0.7802,  ..., -1.4375,  0.5547,  1.2714],\n",
      "         [ 1.0910,  1.3781, -0.9815,  ...,  1.2189, -0.2399, -0.8618],\n",
      "         [ 0.0476,  0.6166,  0.4904,  ...,  0.5319,  1.4706,  0.8851]],\n",
      "\n",
      "        ...,\n",
      "\n",
      "        [[-0.4251, -1.3139, -1.6530,  ..., -0.1279, -0.8907,  0.7626],\n",
      "         [-1.1603, -0.6090, -1.0902,  ...,  0.1353,  0.4376, -0.2042],\n",
      "         [-1.1711,  0.6742,  0.0169,  ...,  0.9518,  1.6093,  0.5822],\n",
      "         [ 1.5182, -1.4226, -0.3760,  ...,  0.8348, -1.4274, -0.6837]],\n",
      "\n",
      "        [[ 0.3562, -1.7594, -0.3372,  ..., -0.1011,  0.3505,  1.5825],\n",
      "         [ 0.8496, -1.6788, -0.7551,  ..., -0.7800,  0.0573, -0.0639],\n",
      "         [ 0.8647,  1.3592, -0.3463,  ..., -0.2857,  0.8258,  1.1116],\n",
      "         [ 1.7726,  1.2520, -0.0882,  ...,  0.4074,  0.4015,  0.3763]],\n",
      "\n",
      "        [[ 0.8647,  1.3592, -0.3463,  ..., -0.2857,  0.8258,  1.1116],\n",
      "         [-0.9286, -0.8951, -1.6249,  ...,  1.1282,  0.1070,  0.7207],\n",
      "         [ 0.9094, -1.1081,  1.1533,  ...,  1.9570, -0.2362,  0.0469],\n",
      "         [-1.7945,  0.1978,  1.0060,  ...,  0.2209, -1.4709,  0.2357]]],\n",
      "       grad_fn=<EmbeddingBackward0>)\n"
     ]
    }
   ],
   "execution_count": 34
  },
  {
   "metadata": {
    "ExecuteTime": {
     "end_time": "2025-08-10T13:57:33.678808Z",
     "start_time": "2025-08-10T13:57:33.649201Z"
    }
   },
   "cell_type": "code",
   "source": [
    "# Create a learnable position embedding table:\n",
    "# - We allocate one vector per absolute position in the context (0..context_length-1)\n",
    "# - context_length must be >= the longest sequence length you feed the model\n",
    "context_length = max_length\n",
    "pos_embedding_layer = torch.nn.Embedding(context_length, output_dim)\n",
    "\n",
    "# Inspect the randomly initialized position vectors (shape: [context_length, output_dim])\n",
    "print(\"Raw position table (learnable weights):\")\n",
    "print(pos_embedding_layer.weight)"
   ],
   "id": "87e821e26afe4509",
   "outputs": [
    {
     "name": "stdout",
     "output_type": "stream",
     "text": [
      "Parameter containing:\n",
      "tensor([[-0.2214, -0.6219, -0.0931,  ...,  0.7471, -0.1968, -0.0575],\n",
      "        [ 1.6479, -0.9182, -0.3797,  ...,  0.0520,  0.4360,  0.0520],\n",
      "        [ 2.8840, -1.7412,  0.9570,  ..., -1.5924, -0.3774, -0.6991],\n",
      "        [ 0.7843,  0.2158, -0.1136,  ..., -2.7918, -1.4832, -0.7604]],\n",
      "       requires_grad=True)\n"
     ]
    }
   ],
   "execution_count": 36
  },
  {
   "metadata": {
    "ExecuteTime": {
     "end_time": "2025-08-10T13:57:48.419769Z",
     "start_time": "2025-08-10T13:57:48.384571Z"
    }
   },
   "cell_type": "code",
   "source": [
    "# Build position indices for the sequence length [0, 1, 2, ..., seq_len-1]\n",
    "# For a seq_len of 4, this is tensor([0, 1, 2, 3])\n",
    "pos_indices = torch.arange(max_length)\n",
    "\n",
    "# Lookup position embeddings => shape: [seq_len, output_dim]\n",
    "pos_embeddings = pos_embedding_layer(pos_indices)\n",
    "print(\"Position embeddings shape:\", pos_embeddings.shape)  # e.g., [4, 256]\n",
    "print(pos_embeddings)"
   ],
   "id": "d93d57e2b8e28a4a",
   "outputs": [
    {
     "name": "stdout",
     "output_type": "stream",
     "text": [
      "torch.Size([4, 256])\n",
      "tensor([[-0.2214, -0.6219, -0.0931,  ...,  0.7471, -0.1968, -0.0575],\n",
      "        [ 1.6479, -0.9182, -0.3797,  ...,  0.0520,  0.4360,  0.0520],\n",
      "        [ 2.8840, -1.7412,  0.9570,  ..., -1.5924, -0.3774, -0.6991],\n",
      "        [ 0.7843,  0.2158, -0.1136,  ..., -2.7918, -1.4832, -0.7604]],\n",
      "       grad_fn=<EmbeddingBackward0>)\n"
     ]
    }
   ],
   "execution_count": 37
  },
  {
   "metadata": {
    "ExecuteTime": {
     "end_time": "2025-08-10T13:58:30.549683Z",
     "start_time": "2025-08-10T13:58:30.526571Z"
    }
   },
   "cell_type": "code",
   "source": [
    "# Combine token and position information:\n",
    "# - token_embeddings shape: [batch, seq_len, output_dim]\n",
    "# - pos_embeddings   shape: [seq_len, output_dim]\n",
    "# PyTorch will broadcast pos_embeddings across the batch dimension automatically:\n",
    "# [batch, seq_len, output_dim] + [seq_len, output_dim] -> [batch, seq_len, output_dim]\n",
    "# If you prefer being explicit, you can unsqueeze: pos_embeddings[None, :, :] (shape [1, seq_len, output_dim])\n",
    "input_embeddings = token_embeddings + pos_embeddings\n",
    "print(\"Final input embeddings shape:\", input_embeddings.shape)  # e.g., [8, 4, 256]\n",
    "print(input_embeddings)"
   ],
   "id": "4313915f5cd8374f",
   "outputs": [
    {
     "name": "stdout",
     "output_type": "stream",
     "text": [
      "torch.Size([8, 4, 256])\n",
      "tensor([[[ 0.5720, -2.1740, -0.1688,  ...,  0.9444,  0.1996,  0.3124],\n",
      "         [ 1.3327, -1.5452,  0.1228,  ...,  1.4366, -0.2740,  0.1900],\n",
      "         [ 3.9273, -2.3975,  2.0987,  ..., -3.3110,  0.7839, -1.7810],\n",
      "         [ 0.4537,  1.2559, -0.9938,  ..., -4.4741, -1.6357, -1.0020]],\n",
      "\n",
      "        [[ 0.5977,  0.6067,  1.1473,  ...,  0.9691,  0.3378,  0.0908],\n",
      "         [ 0.0948,  0.9111, -1.0515,  ..., -0.8423,  0.1205,  0.0752],\n",
      "         [ 2.1904, -2.0311, -0.1978,  ...,  0.5170, -2.0719, -1.3697],\n",
      "         [ 0.9959,  0.2610, -1.0178,  ..., -3.4910, -3.6791, -0.9315]],\n",
      "\n",
      "        [[ 0.6347,  0.0427, -0.2227,  ..., -0.1422, -1.2086,  1.0075],\n",
      "         [ 1.6962, -0.9116, -1.1600,  ..., -1.3855,  0.9907,  1.3233],\n",
      "         [ 3.9750, -0.3631, -0.0245,  ..., -0.3736, -0.6174, -1.5609],\n",
      "         [ 0.8320,  0.8324,  0.3768,  ..., -2.2599, -0.0125,  0.1246]],\n",
      "\n",
      "        ...,\n",
      "\n",
      "        [[-0.6465, -1.9357, -1.7461,  ...,  0.6192, -1.0874,  0.7051],\n",
      "         [ 0.4876, -1.5272, -1.4700,  ...,  0.1873,  0.8736, -0.1522],\n",
      "         [ 1.7129, -1.0670,  0.9740,  ..., -0.6406,  1.2318, -0.1169],\n",
      "         [ 2.3026, -1.2068, -0.4896,  ..., -1.9570, -2.9106, -1.4441]],\n",
      "\n",
      "        [[ 0.1347, -2.3813, -0.4303,  ...,  0.6460,  0.1537,  1.5250],\n",
      "         [ 2.4974, -2.5970, -1.1349,  ..., -0.7281,  0.4933, -0.0119],\n",
      "         [ 3.7487, -0.3820,  0.6107,  ..., -1.8781,  0.4483,  0.4125],\n",
      "         [ 2.5569,  1.4678, -0.2018,  ..., -2.3844, -1.0817, -0.3842]],\n",
      "\n",
      "        [[ 0.6433,  0.7373, -0.4394,  ...,  0.4614,  0.6290,  1.0541],\n",
      "         [ 0.7192, -1.8133, -2.0046,  ...,  1.1802,  0.5430,  0.7726],\n",
      "         [ 3.7934, -2.8493,  2.1103,  ...,  0.3646, -0.6136, -0.6522],\n",
      "         [-1.0102,  0.4136,  0.8924,  ..., -2.5709, -2.9540, -0.5247]]],\n",
      "       grad_fn=<AddBackward0>)\n"
     ]
    }
   ],
   "execution_count": 38
  },
  {
   "metadata": {},
   "cell_type": "markdown",
   "source": [
    "# Notes and tips:\n",
    "- These are learned “absolute” position embeddings. They work up to context_length tokens.\n",
    "If you later use longer sequences than context_length, you must enlarge the table and re-train or re-init.\n",
    "- For variable-length batches with padding, ensure position indices only cover true tokens (not pad), or mask attention accordingly so pads don’t affect learning.\n",
    "- Alternative schemes include sinusoidal or rotary embeddings; the add step stays the same: token + position.\n",
    "\n"
   ],
   "id": "fa2b149ca6407d24"
  }
 ],
 "metadata": {
  "kernelspec": {
   "display_name": "Python 3",
   "language": "python",
   "name": "python3"
  },
  "language_info": {
   "codemirror_mode": {
    "name": "ipython",
    "version": 2
   },
   "file_extension": ".py",
   "mimetype": "text/x-python",
   "name": "python",
   "nbconvert_exporter": "python",
   "pygments_lexer": "ipython2",
   "version": "2.7.6"
  }
 },
 "nbformat": 4,
 "nbformat_minor": 5
}
