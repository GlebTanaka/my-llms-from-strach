{
 "cells": [
  {
   "cell_type": "code",
   "id": "initial_id",
   "metadata": {
    "collapsed": true,
    "ExecuteTime": {
     "end_time": "2025-08-11T15:34:25.632286Z",
     "start_time": "2025-08-11T15:34:25.624442Z"
    }
   },
   "source": [
    "# Quick sanity check: show installed versions used in this notebook.\n",
    "# This helps when results differ across environments.\n",
    "from importlib.metadata import version\n",
    "\n",
    "print(\"torch version:\", version(\"torch\"))\n",
    "print(\"tiktoken version:\", version(\"tiktoken\"))"
   ],
   "outputs": [
    {
     "name": "stdout",
     "output_type": "stream",
     "text": [
      "torch version: 2.7.1\n",
      "tiktoken version: 0.9.0\n"
     ]
    }
   ],
   "execution_count": 1
  },
  {
   "metadata": {
    "ExecuteTime": {
     "end_time": "2025-08-11T15:35:13.511928Z",
     "start_time": "2025-08-11T15:35:12.089124Z"
    }
   },
   "cell_type": "code",
   "source": [
    "import tiktoken\n",
    "import torch\n",
    "from torch.utils.data import Dataset, DataLoader\n",
    "\n",
    "\n",
    "class GPTDatasetV1(Dataset):\n",
    "    \"\"\"\n",
    "    Creates overlapping (input, target) pairs from a long text using a sliding window.\n",
    "\n",
    "    - Tokenization: We use a fast BPE tokenizer (tiktoken GPT-2).\n",
    "    - Windowing: For each window of length `max_length`, the target is the same\n",
    "      sequence shifted by one position (next-token prediction).\n",
    "    \"\"\"\n",
    "    def __init__(self, txt, tokenizer, max_length, stride):\n",
    "        self.input_ids = []\n",
    "        self.target_ids = []\n",
    "\n",
    "        # Tokenize the entire text once for efficiency.\n",
    "        # allowed_special ensures the special token is not removed if present in the text.\n",
    "        token_ids = tokenizer.encode(txt, allowed_special={\"<|endoftext|>\"})\n",
    "\n",
    "        # Sliding window over the tokenized text:\n",
    "        # - Start at i, take max_length tokens as input\n",
    "        # - Targets are the same tokens shifted by 1 (next-token labels)\n",
    "        # - Step forward by `stride` to create overlapping chunks\n",
    "        for i in range(0, len(token_ids) - max_length, stride):\n",
    "            input_chunk = token_ids[i:i + max_length]                 # [t_i, ..., t_{i+L-1}]\n",
    "            target_chunk = token_ids[i + 1: i + max_length + 1]       # [t_{i+1}, ..., t_{i+L}]\n",
    "            self.input_ids.append(torch.tensor(input_chunk))          # shape: (max_length,)\n",
    "            self.target_ids.append(torch.tensor(target_chunk))        # shape: (max_length,)\n",
    "\n",
    "    def __len__(self):\n",
    "        # Number of (input, target) pairs produced by the sliding window\n",
    "        return len(self.input_ids)\n",
    "\n",
    "    def __getitem__(self, idx):\n",
    "        # Returns a tuple (x, y) where y is x shifted by one token\n",
    "        return self.input_ids[idx], self.target_ids[idx]\n",
    "\n",
    "\n",
    "def create_dataloader_v1(txt, batch_size, max_length, stride,\n",
    "                         shuffle=True, drop_last=True, num_workers=0):\n",
    "    \"\"\"\n",
    "    Wrap GPTDatasetV1 with a PyTorch DataLoader for batched iteration.\n",
    "\n",
    "    Args:\n",
    "        txt: Raw text to tokenize and slice\n",
    "        batch_size: Number of sequences per batch\n",
    "        max_length: Sequence length per sample\n",
    "        stride: Step size between consecutive windows (controls overlap)\n",
    "        shuffle: Shuffle dataset order each epoch\n",
    "        drop_last: Drop last incomplete batch to keep shapes consistent\n",
    "        num_workers: Number of subprocesses for data loading\n",
    "    \"\"\"\n",
    "    # Initialize the production-grade GPT-2 tokenizer\n",
    "    tokenizer = tiktoken.get_encoding(\"gpt2\")\n",
    "\n",
    "    # Build the sliding-window dataset\n",
    "    dataset = GPTDatasetV1(txt, tokenizer, max_length, stride)\n",
    "\n",
    "    # Create a DataLoader that yields batches of shape:\n",
    "    #   x: (batch_size, max_length)\n",
    "    #   y: (batch_size, max_length)\n",
    "    dataloader = DataLoader(\n",
    "        dataset, batch_size=batch_size, shuffle=shuffle, drop_last=drop_last, num_workers=num_workers)\n",
    "\n",
    "    return dataloader\n",
    "\n",
    "# Load a small text for demonstration.\n",
    "# Assumes the file is present locally.\n",
    "with open(\"the-verdict.txt\", \"r\", encoding=\"utf-8\") as f:\n",
    "    raw_text = f.read()\n",
    "\n",
    "# Define embedding hyperparameters:\n",
    "# - vocab_size: tokenizer-dependent (GPT-2 uses 50257)\n",
    "# - output_dim: embedding width (model hidden size)\n",
    "# - context_length: maximum sequence length for positional embeddings\n",
    "vocab_size = 50257\n",
    "output_dim = 256\n",
    "context_length = 1024\n",
    "\n",
    "# Token and positional embedding layers:\n",
    "# token_embedding_layer maps token IDs to vectors of size output_dim\n",
    "# pos_embedding_layer maps positions [0..context_length-1] to vectors\n",
    "token_embedding_layer = torch.nn.Embedding(vocab_size, output_dim)\n",
    "pos_embedding_layer = torch.nn.Embedding(context_length, output_dim)\n",
    "\n",
    "# Create a small DataLoader to visualize shapes and the embedding addition.\n",
    "batch_size = 8\n",
    "max_length = 4\n",
    "dataloader = create_dataloader_v1(\n",
    "    raw_text,\n",
    "    batch_size=batch_size,\n",
    "    max_length=max_length,\n",
    "    stride=max_length  # no overlap for simplicity (stride == max_length)\n",
    ")"
   ],
   "id": "7548c34cad6dfb1b",
   "outputs": [],
   "execution_count": 2
  },
  {
   "metadata": {
    "ExecuteTime": {
     "end_time": "2025-08-11T15:35:51.774960Z",
     "start_time": "2025-08-11T15:35:51.741172Z"
    }
   },
   "cell_type": "code",
   "source": [
    "# Iterate one batch to build input embeddings:\n",
    "# - x: token IDs (batch_size, max_length)\n",
    "# - y: next-token labels (batch_size, max_length)\n",
    "for batch in dataloader:\n",
    "    x, y = batch\n",
    "\n",
    "    # Token embeddings: (batch_size, max_length, output_dim)\n",
    "    token_embeddings = token_embedding_layer(x)\n",
    "\n",
    "    # Positional embeddings: (max_length, output_dim)\n",
    "    # Broadcast across batch dimension when added to token embeddings.\n",
    "    pos_embeddings = pos_embedding_layer(torch.arange(max_length))\n",
    "\n",
    "    # Final input embeddings are the sum (standard in transformer encoders/decoders)\n",
    "    # Shape remains: (batch_size, max_length, output_dim)\n",
    "    input_embeddings = token_embeddings + pos_embeddings\n",
    "\n",
    "    break  # we only need the first batch for demonstration"
   ],
   "id": "e24d142fac2a0535",
   "outputs": [],
   "execution_count": 3
  },
  {
   "metadata": {
    "ExecuteTime": {
     "end_time": "2025-08-11T15:36:20.747278Z",
     "start_time": "2025-08-11T15:36:20.740817Z"
    }
   },
   "cell_type": "code",
   "source": [
    "# Confirm the resulting tensor shape: (batch_size, sequence_length, embedding_dim)\n",
    "print(input_embeddings.shape)"
   ],
   "id": "71a9ab5bbb486d68",
   "outputs": [
    {
     "name": "stdout",
     "output_type": "stream",
     "text": [
      "torch.Size([8, 4, 256])\n"
     ]
    }
   ],
   "execution_count": 4
  }
 ],
 "metadata": {
  "kernelspec": {
   "display_name": "Python 3",
   "language": "python",
   "name": "python3"
  },
  "language_info": {
   "codemirror_mode": {
    "name": "ipython",
    "version": 2
   },
   "file_extension": ".py",
   "mimetype": "text/x-python",
   "name": "python",
   "nbconvert_exporter": "python",
   "pygments_lexer": "ipython2",
   "version": "2.7.6"
  }
 },
 "nbformat": 4,
 "nbformat_minor": 5
}
