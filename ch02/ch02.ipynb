{
 "cells": [
  {
   "metadata": {},
   "cell_type": "markdown",
   "source": "## 2.2 Tokenizing text",
   "id": "8be5af3293c7b497"
  },
  {
   "cell_type": "code",
   "id": "initial_id",
   "metadata": {
    "collapsed": true,
    "ExecuteTime": {
     "end_time": "2025-07-02T10:48:16.817788Z",
     "start_time": "2025-07-02T10:48:16.521159Z"
    }
   },
   "source": [
    "import os\n",
    "import urllib.request\n",
    "\n",
    "if not os.path.exists('the-verdict.txt'):\n",
    "    url = 'https://raw.githubusercontent.com/GlebTanaka/LLMs-from-scratch/refs/heads/main/ch02/01_main-chapter-code/the-verdict.txt'\n",
    "    file_path = 'the-verdict.txt'\n",
    "    urllib.request.urlretrieve(url, file_path)"
   ],
   "outputs": [],
   "execution_count": 1
  },
  {
   "metadata": {
    "ExecuteTime": {
     "end_time": "2025-07-02T11:20:52.628649Z",
     "start_time": "2025-07-02T11:20:52.612839Z"
    }
   },
   "cell_type": "code",
   "source": [
    "# Read the file and get character count\n",
    "with open('the-verdict.txt', 'r', encoding='utf-8') as file:\n",
    "    the_verdict_text = file.read()\n",
    "    char_count = len(the_verdict_text)\n",
    "print(f\"Total number of characters in the file: {char_count}\")\n",
    "print(the_verdict_text[:99])"
   ],
   "id": "e9af8606c4a2b890",
   "outputs": [
    {
     "name": "stdout",
     "output_type": "stream",
     "text": [
      "Total number of characters in the file: 20479\n",
      "I HAD always thought Jack Gisburn rather a cheap genius--though a good fellow enough--so it was no \n"
     ]
    }
   ],
   "execution_count": 7
  },
  {
   "metadata": {
    "ExecuteTime": {
     "end_time": "2025-07-02T11:01:40.682153Z",
     "start_time": "2025-07-02T11:01:40.661310Z"
    }
   },
   "cell_type": "code",
   "source": [
    "import re\n",
    "\n",
    "# Sample sentence\n",
    "sample_sentence = \"Hello, world! This is a simple example of tokenization (using regex).\"\n",
    "\n",
    "# Tokenize using re.findall\n",
    "# \\w+ matches one or more word characters (letters, digits, underscores)\n",
    "tokens = re.findall(r'\\w+', sample_sentence.lower())\n",
    "\n",
    "print(\"Original text:\", sample_sentence)\n",
    "print(\"\\nTokens:\", tokens)\n",
    "print(\"Number of tokens:\", len(tokens))"
   ],
   "id": "1f5cbbf58e598d6f",
   "outputs": [
    {
     "name": "stdout",
     "output_type": "stream",
     "text": [
      "Original text: Hello, world! This is a simple example of tokenization (using regex).\n",
      "\n",
      "Tokens: ['hello', 'world', 'this', 'is', 'a', 'simple', 'example', 'of', 'tokenization', 'using', 'regex']\n",
      "Number of tokens: 11\n"
     ]
    }
   ],
   "execution_count": 4
  },
  {
   "metadata": {
    "ExecuteTime": {
     "end_time": "2025-07-02T11:11:21.078486Z",
     "start_time": "2025-07-02T11:11:21.066047Z"
    }
   },
   "cell_type": "code",
   "source": [
    "# A few example texts with different patterns\n",
    "texts = [\n",
    "    \"Hello world\",                    # Simple space-separated\n",
    "    \"Hello, world!\",                  # With punctuation\n",
    "    \"Is this--a test?\",              # With double dash\n",
    "    \"Word. Another word... Final\"     # With multiple dots\n",
    "]\n",
    "\n",
    "# Try different patterns\n",
    "patterns = [\n",
    "    r'\\w+',                          # Just words\n",
    "    r'[A-Za-z]+',                    # Only letters\n",
    "    r'([,.:;?_!\"()\\']|--|\\s)',      # more complex pattern\n",
    "    r'\\S+'                           # Non-whitespace chunks\n",
    "]\n",
    "\n",
    "# Test each pattern on each text\n",
    "for text in texts:\n",
    "    print(f\"\\nOriginal text: '{text}'\")\n",
    "    for pattern in patterns:\n",
    "        print(f\"\\nPattern '{pattern}':\")\n",
    "        if pattern.startswith('('):\n",
    "            # Use split for patterns with groups\n",
    "            tokens = [t.strip() for t in re.split(pattern, text) if t.strip()]\n",
    "        else:\n",
    "            # Use findall for simple patterns\n",
    "            tokens = re.findall(pattern, text)\n",
    "        print(f\"Tokens: {tokens}\")"
   ],
   "id": "2f347d40432f9607",
   "outputs": [
    {
     "name": "stdout",
     "output_type": "stream",
     "text": [
      "\n",
      "Original text: 'Hello world'\n",
      "\n",
      "Pattern '\\w+':\n",
      "Tokens: ['Hello', 'world']\n",
      "\n",
      "Pattern '[A-Za-z]+':\n",
      "Tokens: ['Hello', 'world']\n",
      "\n",
      "Pattern '([,.:;?_!\"()\\']|--|\\s)':\n",
      "Tokens: ['Hello', 'world']\n",
      "\n",
      "Pattern '\\S+':\n",
      "Tokens: ['Hello', 'world']\n",
      "\n",
      "Original text: 'Hello, world!'\n",
      "\n",
      "Pattern '\\w+':\n",
      "Tokens: ['Hello', 'world']\n",
      "\n",
      "Pattern '[A-Za-z]+':\n",
      "Tokens: ['Hello', 'world']\n",
      "\n",
      "Pattern '([,.:;?_!\"()\\']|--|\\s)':\n",
      "Tokens: ['Hello', ',', 'world', '!']\n",
      "\n",
      "Pattern '\\S+':\n",
      "Tokens: ['Hello,', 'world!']\n",
      "\n",
      "Original text: 'Is this--a test?'\n",
      "\n",
      "Pattern '\\w+':\n",
      "Tokens: ['Is', 'this', 'a', 'test']\n",
      "\n",
      "Pattern '[A-Za-z]+':\n",
      "Tokens: ['Is', 'this', 'a', 'test']\n",
      "\n",
      "Pattern '([,.:;?_!\"()\\']|--|\\s)':\n",
      "Tokens: ['Is', 'this', '--', 'a', 'test', '?']\n",
      "\n",
      "Pattern '\\S+':\n",
      "Tokens: ['Is', 'this--a', 'test?']\n",
      "\n",
      "Original text: 'Word. Another word... Final'\n",
      "\n",
      "Pattern '\\w+':\n",
      "Tokens: ['Word', 'Another', 'word', 'Final']\n",
      "\n",
      "Pattern '[A-Za-z]+':\n",
      "Tokens: ['Word', 'Another', 'word', 'Final']\n",
      "\n",
      "Pattern '([,.:;?_!\"()\\']|--|\\s)':\n",
      "Tokens: ['Word', '.', 'Another', 'word', '.', '.', '.', 'Final']\n",
      "\n",
      "Pattern '\\S+':\n",
      "Tokens: ['Word.', 'Another', 'word...', 'Final']\n"
     ]
    }
   ],
   "execution_count": 5
  },
  {
   "metadata": {
    "ExecuteTime": {
     "end_time": "2025-07-02T11:21:11.013638Z",
     "start_time": "2025-07-02T11:21:10.993645Z"
    }
   },
   "cell_type": "code",
   "source": [
    "# Define the pattern as a variable\n",
    "pattern = r'([,.:;?_!\"()\\']|--|\\s)'\n",
    "\n",
    "# Tokenize using the pattern\n",
    "tokens = [token.strip() for token in re.split(pattern, the_verdict_text) if token.strip()]\n",
    "\n",
    "print(\"\\nTokens:\", tokens[:30])\n",
    "print(\"Number of tokens:\", len(tokens))\n"
   ],
   "id": "678e5400ac22b9bb",
   "outputs": [
    {
     "name": "stdout",
     "output_type": "stream",
     "text": [
      "\n",
      "Tokens: ['I', 'HAD', 'always', 'thought', 'Jack', 'Gisburn', 'rather', 'a', 'cheap', 'genius', '--', 'though', 'a', 'good', 'fellow', 'enough', '--', 'so', 'it', 'was', 'no', 'great', 'surprise', 'to', 'me', 'to', 'hear', 'that', ',', 'in']\n",
      "Number of tokens: 4690\n"
     ]
    }
   ],
   "execution_count": 8
  },
  {
   "metadata": {},
   "cell_type": "markdown",
   "source": "## 2.3 Converting tokens into token IDs",
   "id": "a7492d767fbae6d1"
  },
  {
   "metadata": {
    "ExecuteTime": {
     "end_time": "2025-07-02T12:24:03.783944Z",
     "start_time": "2025-07-02T12:24:03.775469Z"
    }
   },
   "cell_type": "code",
   "source": [
    "# Convert tokens to a sorted set (vocabulary)\n",
    "vocab = sorted(set(tokens))\n",
    "\n",
    "print(\"Vocabulary (unique tokens):\", vocab[:5])\n",
    "print(\"Vocabulary size:\", len(vocab))\n",
    "\n",
    "# Create a token-to-id mapping dictionary\n",
    "token_to_id = {token: idx for idx, token in enumerate(vocab)}\n",
    "\n",
    "# Convert tokens to IDs\n",
    "token_ids = [token_to_id[token] for token in tokens]\n",
    "\n",
    "# Print first 5 items from token_to_id dictionary\n",
    "print(\"\\nFirst 5 token-to-ID mappings:\")\n",
    "for i, (token, id_num) in enumerate(token_to_id.items()):\n",
    "    if i >= 5:\n",
    "        break\n",
    "    print(f\"'{token}' -> {id_num}\")\n",
    "\n",
    "# Print first 10 token IDs\n",
    "print(\"\\nFirst 10 tokens as IDs:\", token_ids[:10])"
   ],
   "id": "565fbea11910e0c1",
   "outputs": [
    {
     "name": "stdout",
     "output_type": "stream",
     "text": [
      "Vocabulary (unique tokens): ['!', '\"', \"'\", '(', ')']\n",
      "Vocabulary size: 1130\n",
      "\n",
      "First 5 token-to-ID mappings:\n",
      "'!' -> 0\n",
      "'\"' -> 1\n",
      "''' -> 2\n",
      "'(' -> 3\n",
      "')' -> 4\n",
      "\n",
      "First 10 tokens as IDs: [53, 44, 149, 1003, 57, 38, 818, 115, 256, 486]\n"
     ]
    }
   ],
   "execution_count": 14
  },
  {
   "metadata": {
    "ExecuteTime": {
     "end_time": "2025-07-02T12:29:51.559023Z",
     "start_time": "2025-07-02T12:29:51.551408Z"
    }
   },
   "cell_type": "code",
   "source": [
    "class SimpleTokenizerV1:\n",
    "    def __init__(self, vocab):\n",
    "        self.str_to_int = vocab # Dictionary mapping tokens to IDs\n",
    "        self.int_to_str = {i:s for s,i in vocab.items()} # Reverse mapping: IDs to tokens\n",
    "\n",
    "    def encode(self, text):\n",
    "        preprocessed = re.split(r'([,.:;?_!\"()\\']|--|\\s)', text)\n",
    "\n",
    "        preprocessed = [\n",
    "            item.strip() for item in preprocessed if item.strip()\n",
    "        ]\n",
    "        ids = [self.str_to_int[s] for s in preprocessed]\n",
    "        return ids\n",
    "\n",
    "    def decode(self, ids):\n",
    "        text = \" \".join([self.int_to_str[i] for i in ids])\n",
    "        # Replace spaces before the specified punctuations\n",
    "        text = re.sub(r'\\s+([,.?!\"()\\'])', r'\\1', text)\n",
    "        return text"
   ],
   "id": "7f9a93d7a2edb09f",
   "outputs": [],
   "execution_count": 15
  },
  {
   "metadata": {
    "ExecuteTime": {
     "end_time": "2025-07-02T12:30:43.618732Z",
     "start_time": "2025-07-02T12:30:43.606070Z"
    }
   },
   "cell_type": "code",
   "source": [
    "# Example usage\n",
    "vocab = {'hello': 0, 'world': 1, '!': 2}\n",
    "tokenizer = SimpleTokenizerV1(vocab)\n",
    "\n",
    "# Encoding\n",
    "ids = tokenizer.encode(\"hello world!\")  # Returns: [0, 1, 2]\n",
    "\n",
    "# Decoding\n",
    "text = tokenizer.decode([0, 1, 2])  # Returns: \"hello world!\"\n",
    "print(text)"
   ],
   "id": "ef30c078e400d7bd",
   "outputs": [
    {
     "name": "stdout",
     "output_type": "stream",
     "text": [
      "hello world!\n"
     ]
    }
   ],
   "execution_count": 17
  },
  {
   "metadata": {
    "ExecuteTime": {
     "end_time": "2025-07-02T12:32:23.805880Z",
     "start_time": "2025-07-02T12:32:23.797686Z"
    }
   },
   "cell_type": "code",
   "source": [
    "# Using tokenizer on prior created vocabulary.\n",
    "tokenizer_2 = SimpleTokenizerV1(token_to_id)\n",
    "\n",
    "text_section = \"\"\"\"It's the last he painted, you know,\"\n",
    "           Mrs. Gisburn said with pardonable pride.\"\"\"\n",
    "ids = tokenizer_2.encode(text_section)\n",
    "print(ids)"
   ],
   "id": "4a4df1097d08985b",
   "outputs": [
    {
     "name": "stdout",
     "output_type": "stream",
     "text": [
      "[1, 56, 2, 850, 988, 602, 533, 746, 5, 1126, 596, 5, 1, 67, 7, 38, 851, 1108, 754, 793, 7]\n"
     ]
    }
   ],
   "execution_count": 18
  },
  {
   "metadata": {
    "ExecuteTime": {
     "end_time": "2025-07-02T12:35:23.670431Z",
     "start_time": "2025-07-02T12:35:23.657682Z"
    }
   },
   "cell_type": "code",
   "source": [
    "# decode integers into text\n",
    "tokenizer_2.decode(ids)"
   ],
   "id": "4accfc0a72ed03fc",
   "outputs": [
    {
     "data": {
      "text/plain": [
       "'\" It\\' s the last he painted, you know,\" Mrs. Gisburn said with pardonable pride.'"
      ]
     },
     "execution_count": 19,
     "metadata": {},
     "output_type": "execute_result"
    }
   ],
   "execution_count": 19
  },
  {
   "metadata": {
    "ExecuteTime": {
     "end_time": "2025-07-02T12:37:16.882147Z",
     "start_time": "2025-07-02T12:37:16.875518Z"
    }
   },
   "cell_type": "code",
   "source": [
    "# First tokenizer_2.encode(text_section) converts the text into a list of token IDs\n",
    "# Then tokenizer_2.decode() converts those IDs back into text\n",
    "# This is a roundtrip conversion: text -> IDs -> text\n",
    "# Useful for testing if the tokenizer preserves the text correctly\n",
    "tokenizer_2.decode(tokenizer_2.encode(text_section))"
   ],
   "id": "b54cc06bacd83dd7",
   "outputs": [
    {
     "data": {
      "text/plain": [
       "'\" It\\' s the last he painted, you know,\" Mrs. Gisburn said with pardonable pride.'"
      ]
     },
     "execution_count": 20,
     "metadata": {},
     "output_type": "execute_result"
    }
   ],
   "execution_count": 20
  }
 ],
 "metadata": {
  "kernelspec": {
   "display_name": "Python 3",
   "language": "python",
   "name": "python3"
  },
  "language_info": {
   "codemirror_mode": {
    "name": "ipython",
    "version": 2
   },
   "file_extension": ".py",
   "mimetype": "text/x-python",
   "name": "python",
   "nbconvert_exporter": "python",
   "pygments_lexer": "ipython2",
   "version": "2.7.6"
  }
 },
 "nbformat": 4,
 "nbformat_minor": 5
}
