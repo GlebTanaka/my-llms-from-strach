{
 "cells": [
  {
   "metadata": {},
   "cell_type": "markdown",
   "source": "## 2.2 Tokenizing text",
   "id": "8be5af3293c7b497"
  },
  {
   "cell_type": "code",
   "id": "initial_id",
   "metadata": {
    "collapsed": true,
    "ExecuteTime": {
     "end_time": "2025-07-02T10:48:16.817788Z",
     "start_time": "2025-07-02T10:48:16.521159Z"
    }
   },
   "source": [
    "import os\n",
    "import urllib.request\n",
    "\n",
    "if not os.path.exists('the-verdict.txt'):\n",
    "    url = 'https://raw.githubusercontent.com/GlebTanaka/LLMs-from-scratch/refs/heads/main/ch02/01_main-chapter-code/the-verdict.txt'\n",
    "    file_path = 'the-verdict.txt'\n",
    "    urllib.request.urlretrieve(url, file_path)"
   ],
   "outputs": [],
   "execution_count": 1
  },
  {
   "metadata": {
    "ExecuteTime": {
     "end_time": "2025-07-02T11:20:52.628649Z",
     "start_time": "2025-07-02T11:20:52.612839Z"
    }
   },
   "cell_type": "code",
   "source": [
    "# Read the file and get character count\n",
    "with open('the-verdict.txt', 'r', encoding='utf-8') as file:\n",
    "    the_verdict_text = file.read()\n",
    "    char_count = len(the_verdict_text)\n",
    "print(f\"Total number of characters in the file: {char_count}\")\n",
    "print(the_verdict_text[:99])"
   ],
   "id": "e9af8606c4a2b890",
   "outputs": [
    {
     "name": "stdout",
     "output_type": "stream",
     "text": [
      "Total number of characters in the file: 20479\n",
      "I HAD always thought Jack Gisburn rather a cheap genius--though a good fellow enough--so it was no \n"
     ]
    }
   ],
   "execution_count": 7
  },
  {
   "metadata": {
    "ExecuteTime": {
     "end_time": "2025-07-02T11:01:40.682153Z",
     "start_time": "2025-07-02T11:01:40.661310Z"
    }
   },
   "cell_type": "code",
   "source": [
    "import re\n",
    "\n",
    "# Sample sentence\n",
    "sample_sentence = \"Hello, world! This is a simple example of tokenization (using regex).\"\n",
    "\n",
    "# Tokenize using re.findall\n",
    "# \\w+ matches one or more word characters (letters, digits, underscores)\n",
    "tokens = re.findall(r'\\w+', sample_sentence.lower())\n",
    "\n",
    "print(\"Original text:\", sample_sentence)\n",
    "print(\"\\nTokens:\", tokens)\n",
    "print(\"Number of tokens:\", len(tokens))"
   ],
   "id": "1f5cbbf58e598d6f",
   "outputs": [
    {
     "name": "stdout",
     "output_type": "stream",
     "text": [
      "Original text: Hello, world! This is a simple example of tokenization (using regex).\n",
      "\n",
      "Tokens: ['hello', 'world', 'this', 'is', 'a', 'simple', 'example', 'of', 'tokenization', 'using', 'regex']\n",
      "Number of tokens: 11\n"
     ]
    }
   ],
   "execution_count": 4
  },
  {
   "metadata": {
    "ExecuteTime": {
     "end_time": "2025-07-02T11:11:21.078486Z",
     "start_time": "2025-07-02T11:11:21.066047Z"
    }
   },
   "cell_type": "code",
   "source": [
    "# A few example texts with different patterns\n",
    "texts = [\n",
    "    \"Hello world\",                    # Simple space-separated\n",
    "    \"Hello, world!\",                  # With punctuation\n",
    "    \"Is this--a test?\",              # With double dash\n",
    "    \"Word. Another word... Final\"     # With multiple dots\n",
    "]\n",
    "\n",
    "# Try different patterns\n",
    "patterns = [\n",
    "    r'\\w+',                          # Just words\n",
    "    r'[A-Za-z]+',                    # Only letters\n",
    "    r'([,.:;?_!\"()\\']|--|\\s)',      # more complex pattern\n",
    "    r'\\S+'                           # Non-whitespace chunks\n",
    "]\n",
    "\n",
    "# Test each pattern on each text\n",
    "for text in texts:\n",
    "    print(f\"\\nOriginal text: '{text}'\")\n",
    "    for pattern in patterns:\n",
    "        print(f\"\\nPattern '{pattern}':\")\n",
    "        if pattern.startswith('('):\n",
    "            # Use split for patterns with groups\n",
    "            tokens = [t.strip() for t in re.split(pattern, text) if t.strip()]\n",
    "        else:\n",
    "            # Use findall for simple patterns\n",
    "            tokens = re.findall(pattern, text)\n",
    "        print(f\"Tokens: {tokens}\")"
   ],
   "id": "2f347d40432f9607",
   "outputs": [
    {
     "name": "stdout",
     "output_type": "stream",
     "text": [
      "\n",
      "Original text: 'Hello world'\n",
      "\n",
      "Pattern '\\w+':\n",
      "Tokens: ['Hello', 'world']\n",
      "\n",
      "Pattern '[A-Za-z]+':\n",
      "Tokens: ['Hello', 'world']\n",
      "\n",
      "Pattern '([,.:;?_!\"()\\']|--|\\s)':\n",
      "Tokens: ['Hello', 'world']\n",
      "\n",
      "Pattern '\\S+':\n",
      "Tokens: ['Hello', 'world']\n",
      "\n",
      "Original text: 'Hello, world!'\n",
      "\n",
      "Pattern '\\w+':\n",
      "Tokens: ['Hello', 'world']\n",
      "\n",
      "Pattern '[A-Za-z]+':\n",
      "Tokens: ['Hello', 'world']\n",
      "\n",
      "Pattern '([,.:;?_!\"()\\']|--|\\s)':\n",
      "Tokens: ['Hello', ',', 'world', '!']\n",
      "\n",
      "Pattern '\\S+':\n",
      "Tokens: ['Hello,', 'world!']\n",
      "\n",
      "Original text: 'Is this--a test?'\n",
      "\n",
      "Pattern '\\w+':\n",
      "Tokens: ['Is', 'this', 'a', 'test']\n",
      "\n",
      "Pattern '[A-Za-z]+':\n",
      "Tokens: ['Is', 'this', 'a', 'test']\n",
      "\n",
      "Pattern '([,.:;?_!\"()\\']|--|\\s)':\n",
      "Tokens: ['Is', 'this', '--', 'a', 'test', '?']\n",
      "\n",
      "Pattern '\\S+':\n",
      "Tokens: ['Is', 'this--a', 'test?']\n",
      "\n",
      "Original text: 'Word. Another word... Final'\n",
      "\n",
      "Pattern '\\w+':\n",
      "Tokens: ['Word', 'Another', 'word', 'Final']\n",
      "\n",
      "Pattern '[A-Za-z]+':\n",
      "Tokens: ['Word', 'Another', 'word', 'Final']\n",
      "\n",
      "Pattern '([,.:;?_!\"()\\']|--|\\s)':\n",
      "Tokens: ['Word', '.', 'Another', 'word', '.', '.', '.', 'Final']\n",
      "\n",
      "Pattern '\\S+':\n",
      "Tokens: ['Word.', 'Another', 'word...', 'Final']\n"
     ]
    }
   ],
   "execution_count": 5
  },
  {
   "metadata": {
    "ExecuteTime": {
     "end_time": "2025-07-02T11:21:11.013638Z",
     "start_time": "2025-07-02T11:21:10.993645Z"
    }
   },
   "cell_type": "code",
   "source": [
    "# Define the pattern as a variable\n",
    "pattern = r'([,.:;?_!\"()\\']|--|\\s)'\n",
    "\n",
    "# Tokenize using the pattern\n",
    "tokens = [token.strip() for token in re.split(pattern, the_verdict_text) if token.strip()]\n",
    "\n",
    "print(\"\\nTokens:\", tokens[:30])\n",
    "print(\"Number of tokens:\", len(tokens))\n"
   ],
   "id": "678e5400ac22b9bb",
   "outputs": [
    {
     "name": "stdout",
     "output_type": "stream",
     "text": [
      "\n",
      "Tokens: ['I', 'HAD', 'always', 'thought', 'Jack', 'Gisburn', 'rather', 'a', 'cheap', 'genius', '--', 'though', 'a', 'good', 'fellow', 'enough', '--', 'so', 'it', 'was', 'no', 'great', 'surprise', 'to', 'me', 'to', 'hear', 'that', ',', 'in']\n",
      "Number of tokens: 4690\n"
     ]
    }
   ],
   "execution_count": 8
  }
 ],
 "metadata": {
  "kernelspec": {
   "display_name": "Python 3",
   "language": "python",
   "name": "python3"
  },
  "language_info": {
   "codemirror_mode": {
    "name": "ipython",
    "version": 2
   },
   "file_extension": ".py",
   "mimetype": "text/x-python",
   "name": "python",
   "nbconvert_exporter": "python",
   "pygments_lexer": "ipython2",
   "version": "2.7.6"
  }
 },
 "nbformat": 4,
 "nbformat_minor": 5
}
