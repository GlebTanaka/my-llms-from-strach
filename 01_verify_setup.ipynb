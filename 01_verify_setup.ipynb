{
 "cells": [
  {
   "metadata": {},
   "cell_type": "markdown",
   "source": [
    "# Initial Setup Verification\n",
    "This notebook verifies the basic setup for following along with \"LLMs from Scratch\" by Sebastian Raschka."
   ],
   "id": "7094b7fed938ae54"
  },
  {
   "metadata": {
    "ExecuteTime": {
     "end_time": "2025-07-01T13:39:46.628519Z",
     "start_time": "2025-07-01T13:39:46.613472Z"
    }
   },
   "cell_type": "code",
   "source": [
    "import torch\n",
    "print(f\"PyTorch version: {torch.__version__}\")\n",
    "print(f\"CUDA available: {torch.cuda.is_available()}\")\n",
    "if torch.cuda.is_available():\n",
    "    print(f\"CUDA version: {torch.version.cuda}\")\n",
    "    print(f\"Current GPU device: {torch.cuda.get_device_name()}\")"
   ],
   "id": "ff9150e665a193de",
   "outputs": [
    {
     "name": "stdout",
     "output_type": "stream",
     "text": [
      "PyTorch version: 2.7.1\n",
      "CUDA available: False\n"
     ]
    }
   ],
   "execution_count": 3
  },
  {
   "metadata": {},
   "cell_type": "markdown",
   "source": [
    "## Next Steps\n",
    "Following the book's approach, we'll need to install additional packages as we progress. The core packages we'll need soon include:\n",
    "- numpy\n",
    "- transformers\n",
    "- datasets\n",
    "- tqdm\n",
    "\n",
    "These can be installed using uv when needed:"
   ],
   "id": "a59a4634a9d853aa"
  },
  {
   "metadata": {},
   "cell_type": "code",
   "outputs": [],
   "execution_count": null,
   "source": "",
   "id": "ed3d7a1e919cf2b0"
  }
 ],
 "metadata": {
  "kernelspec": {
   "display_name": "Python 3",
   "language": "python",
   "name": "python3"
  },
  "language_info": {
   "codemirror_mode": {
    "name": "ipython",
    "version": 2
   },
   "file_extension": ".py",
   "mimetype": "text/x-python",
   "name": "python",
   "nbconvert_exporter": "python",
   "pygments_lexer": "ipython2",
   "version": "2.7.6"
  }
 },
 "nbformat": 4,
 "nbformat_minor": 5
}
