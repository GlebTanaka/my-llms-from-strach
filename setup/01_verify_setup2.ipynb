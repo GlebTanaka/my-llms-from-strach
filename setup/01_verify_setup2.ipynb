{
 "cells": [
  {
   "metadata": {},
   "cell_type": "markdown",
   "source": [
    "# Initial Setup Verification\n",
    "This notebook verifies the basic setup for following along with \"LLMs from Scratch\" by Sebastian Raschka.\n",
    "\n",
    "Running on Apple Silicon (M1/M2/M3) Mac."
   ],
   "id": "802f77fcb4f8abaf"
  },
  {
   "metadata": {
    "ExecuteTime": {
     "end_time": "2025-07-01T13:41:16.339957Z",
     "start_time": "2025-07-01T13:41:12.216994Z"
    }
   },
   "cell_type": "code",
   "source": [
    "import torch\n",
    "print(f\"PyTorch version: {torch.__version__}\")\n",
    "print(f\"MPS (Apple Metal) available: {torch.backends.mps.is_available()}\")\n",
    "print(f\"MPS device built: {torch.backends.mps.is_built()}\")\n",
    "\n",
    "# Example of device selection\n",
    "device = (\n",
    "    \"mps\" if torch.backends.mps.is_available()\n",
    "    else \"cpu\"\n",
    ")\n",
    "print(f\"\\nUsing device: {device}\")\n",
    "\n",
    "# Quick test tensor operation\n",
    "x = torch.randn(2, 3).to(device)\n",
    "print(f\"\\nTest tensor on {device}:\")\n",
    "print(x)"
   ],
   "id": "4cf2eb283a8b7565",
   "outputs": [
    {
     "name": "stdout",
     "output_type": "stream",
     "text": [
      "PyTorch version: 2.7.1\n",
      "MPS (Apple Metal) available: True\n",
      "MPS device built: True\n",
      "\n",
      "Using device: mps\n",
      "\n",
      "Test tensor on mps:\n",
      "tensor([[-0.6780,  0.6242, -1.6900],\n",
      "        [ 0.7431, -0.1709, -0.8228]], device='mps:0')\n"
     ]
    }
   ],
   "execution_count": 1
  },
  {
   "metadata": {},
   "cell_type": "markdown",
   "source": [
    "## Next Steps\n",
    "Following the book's approach, we'll need to install additional packages as we progress. The core packages we'll need soon include:\n",
    "- numpy\n",
    "- transformers\n",
    "- datasets\n",
    "- tqdm\n",
    "\n",
    "These can be installed using uv when needed:\n",
    "```bash\n",
    "uv pip install numpy transformers datasets tqdm\n",
    "```\n",
    "\n",
    "Note: On Apple Silicon Macs, we use the MPS (Metal Performance Shaders) backend for GPU acceleration instead of CUDA"
   ],
   "id": "9349dabb6086ebe2"
  },
  {
   "metadata": {},
   "cell_type": "markdown",
   "source": "Note: On Apple Silicon Macs, we use the MPS (Metal Performance Shaders) backend for GPU acceleration instead of CUDA.",
   "id": "17605d29be8124f0"
  }
 ],
 "metadata": {
  "kernelspec": {
   "display_name": "Python 3",
   "language": "python",
   "name": "python3"
  },
  "language_info": {
   "codemirror_mode": {
    "name": "ipython",
    "version": 2
   },
   "file_extension": ".py",
   "mimetype": "text/x-python",
   "name": "python",
   "nbconvert_exporter": "python",
   "pygments_lexer": "ipython2",
   "version": "2.7.6"
  }
 },
 "nbformat": 4,
 "nbformat_minor": 5
}
