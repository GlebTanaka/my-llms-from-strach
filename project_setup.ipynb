{
 "cells": [
  {
   "metadata": {},
   "cell_type": "markdown",
   "source": [
    "# Project Setup Documentation\n",
    "This notebook documents the setup process for the \"LLMs from Scratch\" project.\n",
    "\n",
    "## Environment Setup\n",
    "- Python version: 3.11\n",
    "- Package manager: uv\n",
    "- Virtual environment: Created with `uv venv`\n",
    "\n",
    "## Initial Package Installation\n",
    "```bash\n",
    "# Create and activate virtual environment\n",
    "uv venv\n",
    "source .venv/bin/activate  # On Unix/MacOS\n",
    "\n",
    "# Install core packages\n",
    "uv pip install torch     # PyTorch for deep learning\n",
    "uv pip install numpy     # Numerical computations\n",
    "uv pip install jupyterlab  # Interactive development environment\n",
    "```\n",
    "```"
   ],
   "id": "6bc5147f37286a76"
  },
  {
   "metadata": {},
   "cell_type": "markdown",
   "source": [
    "## Hardware Configuration\n",
    "- Running on Apple Silicon (M1 Mac Mini)\n",
    "- Using MPS (Metal Performance Shaders) for GPU acceleration\n",
    "- No CUDA support (NVIDIA-specific)\n",
    "\n",
    "## Next Steps\n",
    "Additional packages to be installed as needed:\n",
    "```bash\n",
    "uv pip install transformers  # Hugging Face Transformers\n",
    "uv pip install datasets     # Dataset handling\n",
    "uv pip install tqdm        # Progress bars\n",
    "```\n",
    "\n",
    "## Notes\n",
    "- Using `uv` package manager for faster and more reliable package management\n",
    "- MPS backend will be used for GPU acceleration on this Apple Silicon machine\n",
    "- Environment can be updated incrementally as new packages are needed\n"
   ],
   "id": "1fd17d2e5296e2d8"
  }
 ],
 "metadata": {
  "kernelspec": {
   "display_name": "Python 3",
   "language": "python",
   "name": "python3"
  },
  "language_info": {
   "codemirror_mode": {
    "name": "ipython",
    "version": 2
   },
   "file_extension": ".py",
   "mimetype": "text/x-python",
   "name": "python",
   "nbconvert_exporter": "python",
   "pygments_lexer": "ipython2",
   "version": "2.7.6"
  }
 },
 "nbformat": 4,
 "nbformat_minor": 5
}
